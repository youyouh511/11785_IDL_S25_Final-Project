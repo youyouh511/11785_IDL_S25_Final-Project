{
 "cells": [
  {
   "cell_type": "markdown",
   "id": "2ec945c3",
   "metadata": {},
   "source": [
    "# 🔥Causal Graph Neural Networks for Wildfire Danger Prediction🔥\n",
    "### Re-implementation of work by Zhao et al.(2024) (https://arxiv.org/abs/2403.08414)\n",
    "By Wenting Yue, Wenyu Liu, Youyou Huang (Group 23)"
   ]
  },
  {
   "cell_type": "markdown",
   "id": "8474fc73",
   "metadata": {},
   "source": [
    "# Set up"
   ]
  },
  {
   "cell_type": "markdown",
   "id": "484a6211",
   "metadata": {},
   "source": [
    "## Environment"
   ]
  },
  {
   "cell_type": "markdown",
   "id": "525a0d17",
   "metadata": {},
   "source": [
    "Environment setup\n",
    "```bash\n",
    "conda env create -f env.yml\n",
    "```\n",
    "\n",
    "Activate environment and check device\n",
    "```bash\n",
    "conda activate idl_final\n",
    "python -c \"import torch; print('CUDA available:', torch.cuda.is_available())\"\n",
    "nvidia-smi\n",
    "```"
   ]
  },
  {
   "cell_type": "markdown",
   "id": "04e37dc0",
   "metadata": {},
   "source": [
    "## Retrieve files from github repository\n",
    "If `only notebook` is downloaded locally"
   ]
  },
  {
   "cell_type": "code",
   "execution_count": null,
   "id": "339ef5cb",
   "metadata": {},
   "outputs": [],
   "source": [
    "import os\n",
    "import sys\n",
    "\n",
    "# Get the notebook's directory and set it as the working directory\n",
    "notebook_dir = os.path.dirname(os.path.abspath(sys.argv[0]))\n",
    "os.chdir(notebook_dir)\n",
    "print(\"Current working directory:\", os.getcwd())\n",
    "\n",
    "# Settings -> Developer Settings -> Personal Access Tokens -> Token (classic)\n",
    "repo = \"https://github.com/youyouh511/11785_IDL_S25_Final-Project.git\"\n",
    "!git clone {repo}"
   ]
  },
  {
   "cell_type": "markdown",
   "id": "1f92f9e4",
   "metadata": {},
   "source": [
    "# Imports"
   ]
  },
  {
   "cell_type": "code",
   "execution_count": null,
   "id": "861ab121",
   "metadata": {},
   "outputs": [],
   "source": [
    "from data import (\n",
    "    # [pending]\n",
    ")\n",
    "from model import (\n",
    "    AdjacencyMatrix,\n",
    "    TemporalLSTM,\n",
    "    CausalGNN\n",
    ")\n",
    "from train import (\n",
    "    trainer\n",
    ")\n",
    "from utils import (\n",
    ")\n",
    "\n",
    "\n"
   ]
  },
  {
   "cell_type": "markdown",
   "id": "3534b843",
   "metadata": {},
   "source": [
    "# Config"
   ]
  },
  {
   "cell_type": "code",
   "execution_count": null,
   "id": "01908115",
   "metadata": {},
   "outputs": [],
   "source": [
    "%%wirtefile config.yaml\n",
    "\n",
    "###### Dataset\n",
    "data:\n",
    "    root                    : \"input_data_dir\"\n",
    "    train_partition         : \"train\"\n",
    "    val_partition           : \"val\"\n",
    "    test_partition          : \"test\"\n",
    "    subset                  : 1.0\n",
    "    batch_size              : 128\n",
    "    NUM_WORKERS             : 4\n",
    "\n",
    "\n",
    "model:\n",
    "    ### Adjacency matrix\n",
    "    input_json_path         : \"input_data_dir/matrix_inputs.json\"\n",
    "    local_var_lag           : 8\n",
    "    oci_var_lag             : 31\n",
    "    max_lag                 : 312\n",
    "    independence_test       : \"ParCorr\"\n",
    "    tau_max                 : 23\n",
    "    pc_alpha                : 0.05\n",
    "\n",
    "\n",
    "    lstm_layer\n",
    "\n"
   ]
  },
  {
   "cell_type": "markdown",
   "id": "0fb2ce69",
   "metadata": {},
   "source": [
    "# Data Download"
   ]
  }
 ],
 "metadata": {
  "kernelspec": {
   "display_name": "idl_final",
   "language": "python",
   "name": "python3"
  },
  "language_info": {
   "name": "python",
   "version": "3.9.22"
  }
 },
 "nbformat": 4,
 "nbformat_minor": 5
}
