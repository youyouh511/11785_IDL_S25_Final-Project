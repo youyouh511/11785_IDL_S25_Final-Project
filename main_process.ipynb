{
 "cells": [
  {
   "cell_type": "markdown",
   "id": "2ec945c3",
   "metadata": {},
   "source": [
    "# 🔥Causal Graph Neural Networks for Wildfire Danger Prediction🔥\n",
    "Re-implementation of original work by Zhao et al.(2024) (https://arxiv.org/abs/2403.08414)\n",
    "\n",
    "IDL S25 Group 23: Wenting Yue, Wenyu Liu, Youyou Huang (Group 23)"
   ]
  },
  {
   "cell_type": "markdown",
   "id": "04e37dc0",
   "metadata": {},
   "source": [
    "## Retrieve files from github repository\n",
    "If `only notebook` is downloaded locally"
   ]
  },
  {
   "cell_type": "code",
   "execution_count": 1,
   "id": "339ef5cb",
   "metadata": {},
   "outputs": [
    {
     "name": "stdout",
     "output_type": "stream",
     "text": [
      "Current working directory: /home/wenzheng/Wenyu/11785_IDL_S25_Final-Project\n"
     ]
    },
    {
     "name": "stdout",
     "output_type": "stream",
     "text": [
      "Already up to date.\n"
     ]
    }
   ],
   "source": [
    "import os\n",
    "import sys\n",
    "\n",
    "# Get the current working directory\n",
    "print(\"Current working directory:\", os.getcwd())\n",
    "# repo = \"https://github.com/youyouh511/11785_IDL_S25_Final-Project.git\"\n",
    "# !git clone {repo}\n",
    "!git pull"
   ]
  },
  {
   "cell_type": "markdown",
   "id": "8474fc73",
   "metadata": {},
   "source": [
    "# Set up"
   ]
  },
  {
   "cell_type": "markdown",
   "id": "484a6211",
   "metadata": {},
   "source": [
    "## Environment"
   ]
  },
  {
   "cell_type": "markdown",
   "id": "525a0d17",
   "metadata": {},
   "source": [
    "Environment setup\n",
    "```bash\n",
    "conda env create -f env.yml\n",
    "```\n",
    "\n",
    "Activate environment and check device\n",
    "```bash\n",
    "conda activate idl\n",
    "nvidia-smi\n",
    "python -c \"import torch; print('CUDA available:', torch.cuda.is_available())\"\n",
    "```"
   ]
  },
  {
   "cell_type": "markdown",
   "id": "1f92f9e4",
   "metadata": {},
   "source": [
    "# Imports"
   ]
  },
  {
   "cell_type": "code",
   "execution_count": 2,
   "id": "861ab121",
   "metadata": {},
   "outputs": [
    {
     "name": "stderr",
     "output_type": "stream",
     "text": [
      "/home/wenzheng/.conda/envs/hw4/lib/python3.12/site-packages/numba/np/ufunc/parallel.py:371: NumbaWarning: The TBB threading layer requires TBB version 2021 update 6 or later i.e., TBB_INTERFACE_VERSION >= 12060. Found TBB_INTERFACE_VERSION = 12050. The TBB threading layer is disabled.\n",
      "  warnings.warn(problem)\n"
     ]
    },
    {
     "name": "stdout",
     "output_type": "stream",
     "text": [
      "Using device: cuda\n"
     ]
    }
   ],
   "source": [
    "from data import (\n",
    "    JsonFireDataset\n",
    ")\n",
    "from model import (\n",
    "    AdjacencyMatrix,\n",
    "    TemporalLSTM,\n",
    "    CausalGNN\n",
    ")\n",
    "# from train import (\n",
    "    \n",
    "# )\n",
    "# from utils import (\n",
    "# )\n",
    "\n",
    "\n",
    "import numpy as np\n",
    "import tqdm\n",
    "import matplotlib.pyplot as plt\n",
    "import json\n",
    "import zipfile\n",
    "import torch\n",
    "import requests\n",
    "import xarray as xr\n",
    "import yaml\n",
    "from torchinfo import summary\n",
    "import shutil\n",
    "import wandb\n",
    "import time\n",
    "device = \"cuda\" if torch.cuda.is_available() else \"cpu\"\n",
    "print(f\"Using device: {device}\")\n"
   ]
  },
  {
   "cell_type": "markdown",
   "id": "3534b843",
   "metadata": {},
   "source": [
    "# Config"
   ]
  },
  {
   "cell_type": "code",
   "execution_count": 3,
   "id": "01908115",
   "metadata": {},
   "outputs": [
    {
     "name": "stdout",
     "output_type": "stream",
     "text": [
      "Overwriting config.yaml\n"
     ]
    }
   ],
   "source": [
    "%%writefile config.yaml\n",
    "\n",
    "###### Dataset\n",
    "    root                    : \"./data\"\n",
    "    train_json_path         : \"train.json\"\n",
    "    val_json_path           : \"val.json\"\n",
    "    test_json_path          : \"test.json\"\n",
    "    matrix_json_path        : \"matrix.json\"\n",
    "    subset                  : 1.0\n",
    "    batch_size              : 128\n",
    "    NUM_WORKERS             : 4\n",
    "\n",
    "    ### Target threshold\n",
    "    fire_threshold          : 10\n",
    "\n",
    "\n",
    "###### Model\n",
    "    ### Adjacency matrix\n",
    "    local_var_lag           : 8\n",
    "    oci_var_lag             : 31\n",
    "    max_lag                 : 312\n",
    "    independence_test       : \"ParCorr\"\n",
    "    tau_max                 : 186\n",
    "    pc_alpha                : 0.05\n",
    "    mask_target             : True\n",
    "\n",
    "    ### Temporal LSTM\n",
    "    lstm_layer              : 1\n",
    "    hidden_dim              : 256\n",
    "\n",
    "    ### GNN\n",
    "    gnn_nodes               : 7\n",
    "\n",
    "\n",
    "###### Training\n",
    "    epochs                  : 30\n",
    "\n",
    "    lr                      : 1.0e-5\n",
    "    min_lr                  : 1.0e-9\n",
    "    \n",
    "    optimizer               : \"Adam\"\n",
    "    betas                   : [0.9, 0.999]\n",
    "    eps                     : 1.0e-8\n",
    "    weight_decay            : 5.0e-6\n",
    "\n",
    "    lr_scheduler            : \"CosineAnnealingLR\"\n",
    "    patience                : 10\n",
    "    early_stop              : True\n",
    "\n",
    "    save_model              : True\n",
    "    save_model_path         : \"./checkpoints\"\n",
    "    load_model              : False\n",
    "    load_model_path         : \"./checkpoints/best.pth\"\n",
    "    wandb_log               : True\n",
    "    wandb_project           : \"IDL_Final\"\n",
    "    wandb_run_id            : None"
   ]
  },
  {
   "cell_type": "code",
   "execution_count": 4,
   "id": "577f018f",
   "metadata": {},
   "outputs": [
    {
     "data": {
      "text/plain": [
       "{'root': './data',\n",
       " 'train_json_path': 'train.json',\n",
       " 'val_json_path': 'val.json',\n",
       " 'test_json_path': 'test.json',\n",
       " 'matrix_json_path': 'matrix.json',\n",
       " 'subset': 1.0,\n",
       " 'batch_size': 128,\n",
       " 'NUM_WORKERS': 4,\n",
       " 'fire_threshold': 10,\n",
       " 'local_var_lag': 8,\n",
       " 'oci_var_lag': 31,\n",
       " 'max_lag': 312,\n",
       " 'independence_test': 'ParCorr',\n",
       " 'tau_max': 186,\n",
       " 'pc_alpha': 0.05,\n",
       " 'mask_target': True,\n",
       " 'lstm_layer': 1,\n",
       " 'hidden_dim': 256,\n",
       " 'gnn_nodes': 7,\n",
       " 'epochs': 30,\n",
       " 'lr': 1e-05,\n",
       " 'min_lr': 1e-09,\n",
       " 'optimizer': 'Adam',\n",
       " 'betas': [0.9, 0.999],\n",
       " 'eps': 1e-08,\n",
       " 'weight_decay': 5e-06,\n",
       " 'lr_scheduler': 'CosineAnnealingLR',\n",
       " 'patience': 10,\n",
       " 'early_stop': True,\n",
       " 'save_model': True,\n",
       " 'save_model_path': './checkpoints',\n",
       " 'load_model': False,\n",
       " 'load_model_path': './checkpoints/best.pth',\n",
       " 'wandb_log': True,\n",
       " 'wandb_project': 'IDL_Final',\n",
       " 'wandb_run_id': 'None'}"
      ]
     },
     "execution_count": 4,
     "metadata": {},
     "output_type": "execute_result"
    }
   ],
   "source": [
    "with open('config.yaml', 'r') as file:\n",
    "    config = yaml.safe_load(file)\n",
    "\n",
    "config"
   ]
  },
  {
   "cell_type": "markdown",
   "id": "0fb2ce69",
   "metadata": {},
   "source": [
    "# Data Retrieval & Pre-process\n",
    "Refer to data_preprocessing.ipynb"
   ]
  },
  {
   "cell_type": "markdown",
   "id": "91b39eef",
   "metadata": {},
   "source": [
    "# Datasets"
   ]
  },
  {
   "cell_type": "code",
   "execution_count": 5,
   "id": "64ab8390",
   "metadata": {},
   "outputs": [],
   "source": [
    "local_keys  = [\"T2M_MEAN\",\"TP\",\"VPD\"]\n",
    "oci_keys    = [\"OCI_NAO\", \"OCI_NINA34_ANOM\", \"OCI_AO\"]\n",
    "\n",
    "train_ds = JsonFireDataset(\n",
    "    json_path   = \"data/train.json\",\n",
    "    local_keys  = local_keys,\n",
    "    oci_keys    = oci_keys\n",
    ")\n",
    "val_ds = JsonFireDataset(\n",
    "    json_path   = \"data/val.json\",\n",
    "    local_keys  = local_keys,\n",
    "    oci_keys    = oci_keys\n",
    ")\n",
    "test_ds = JsonFireDataset(\n",
    "    json_path   = \"data/test.json\",\n",
    "    local_keys  = local_keys,\n",
    "    oci_keys    = oci_keys\n",
    ")"
   ]
  },
  {
   "cell_type": "markdown",
   "id": "a367f937",
   "metadata": {},
   "source": [
    "# Model"
   ]
  },
  {
   "cell_type": "markdown",
   "id": "572cbc51",
   "metadata": {},
   "source": [
    "## Adjacency Matrix"
   ]
  },
  {
   "cell_type": "code",
   "execution_count": 6,
   "id": "f5717a84",
   "metadata": {},
   "outputs": [
    {
     "data": {
      "text/plain": [
       "'## Filter a subset of matrix samples from matrix.json\\nsubset_frac         = 0.001\\nrng_seed            = 11785\\ninput_matrix_file   = \"data/matrix.json\"\\nsubset_matrix_file  = f\"data/matrix_{subset_frac}_{rng_seed}.json\"\\n\\nAdjacencyMatrix.sample_json_file(\\n    subset_frac  = subset_frac,\\n    rng_seed     = rng_seed,\\n    input_path   = input_matrix_file,\\n    output_path  = subset_matrix_file,\\n)'"
      ]
     },
     "execution_count": 6,
     "metadata": {},
     "output_type": "execute_result"
    }
   ],
   "source": [
    "\"\"\"## Filter a subset of matrix samples from matrix.json\n",
    "subset_frac         = 0.001\n",
    "rng_seed            = 11785\n",
    "input_matrix_file   = \"data/matrix.json\"\n",
    "subset_matrix_file  = f\"data/matrix_{subset_frac}_{rng_seed}.json\"\n",
    "\n",
    "AdjacencyMatrix.sample_json_file(\n",
    "    subset_frac  = subset_frac,\n",
    "    rng_seed     = rng_seed,\n",
    "    input_path   = input_matrix_file,\n",
    "    output_path  = subset_matrix_file,\n",
    ")\"\"\""
   ]
  },
  {
   "cell_type": "markdown",
   "id": "d73bdec2",
   "metadata": {},
   "source": [
    "## Causal GNN"
   ]
  },
  {
   "cell_type": "code",
   "execution_count": 7,
   "id": "bf44f80b",
   "metadata": {},
   "outputs": [],
   "source": [
    "from torch.utils.data import DataLoader\n",
    "import pandas as pd"
   ]
  },
  {
   "cell_type": "code",
   "execution_count": 8,
   "id": "5670c228",
   "metadata": {},
   "outputs": [],
   "source": [
    "train_loader = DataLoader(\n",
    "        train_ds,\n",
    "        batch_size=256,\n",
    "        shuffle=True,\n",
    "        num_workers=4,    # adjust to your machine\n",
    "        pin_memory=True,  # if you’re on GPU\n",
    "    )\n",
    "val_loader = DataLoader(\n",
    "        val_ds,\n",
    "        batch_size=256,\n",
    "        shuffle=False,\n",
    "        num_workers=4,    # adjust to your machine\n",
    "        pin_memory=True,  # if you’re on GPU\n",
    "    )\n",
    "test_loader = DataLoader(\n",
    "        test_ds,\n",
    "        batch_size=256,\n",
    "        shuffle=False,\n",
    "        num_workers=4,    # adjust to your machine\n",
    "        pin_memory=True,  # if you’re on GPU\n",
    "    )"
   ]
  },
  {
   "cell_type": "code",
   "execution_count": 9,
   "id": "d9dd8fd3",
   "metadata": {},
   "outputs": [
    {
     "data": {
      "text/plain": [
       "'matrix_builder = AdjacencyMatrix(, independence_test=\"ParCorr\",tau_max=23)\\noutput, varlist = matrix_builder.gen_adj_matrix(\"val\", \"mean\", True, \"target\", True)\\nprint(varlist)'"
      ]
     },
     "execution_count": 9,
     "metadata": {},
     "output_type": "execute_result"
    }
   ],
   "source": [
    "\"\"\"matrix_builder = AdjacencyMatrix(, independence_test=\"ParCorr\",tau_max=23)\n",
    "output, varlist = matrix_builder.gen_adj_matrix(\"val\", \"mean\", True, \"target\", True)\n",
    "print(varlist)\"\"\""
   ]
  },
  {
   "cell_type": "code",
   "execution_count": 10,
   "id": "df7aef10",
   "metadata": {},
   "outputs": [],
   "source": [
    "# Step 1: Load CSV into pandas DataFrame\n",
    "df = pd.read_csv(\"data/adj_matrix_0.1_11785.csv\", index_col=0)\n",
    "\n",
    "# Step 2: Desired new order\n",
    "new_order = [\"T2M_MEAN\", \"TP\", \"VPD\", \"OCI_NAO\", \"OCI_NINA34_ANOM\", \"OCI_AO\"]\n",
    "\n",
    "# Step 3: Reorder rows and columns\n",
    "df_reordered = df.loc[new_order, new_order]\n",
    "\n",
    "# Step 4: Save (optional)\n",
    "df_reordered.to_csv(\"data/adj_matrix_reordered_stripped.csv\", index=False, header=False)"
   ]
  },
  {
   "cell_type": "code",
   "execution_count": 11,
   "id": "370530e9",
   "metadata": {},
   "outputs": [],
   "source": [
    "import torch\n",
    "import numpy as np\n",
    "\n",
    "matrix_np = np.loadtxt(\"data/adj_matrix_reordered_stripped.csv\", delimiter=\",\")\n",
    "# Step 2: Convert to torch tensor (float32 for neural network use)\n",
    "matrix_tensor = torch.tensor(matrix_np, dtype=torch.float32)"
   ]
  },
  {
   "cell_type": "code",
   "execution_count": 12,
   "id": "f4090dd4",
   "metadata": {},
   "outputs": [
    {
     "name": "stdout",
     "output_type": "stream",
     "text": [
      "============================================================\n",
      "Layer (type:depth-idx)                   Param #\n",
      "============================================================\n",
      "CausalGNN                                --\n",
      "├─TemporalLSTM: 1-1                      --\n",
      "│    └─lstm.weight_ih_l0                 ├─1,024\n",
      "│    └─lstm.weight_hh_l0                 ├─262,144\n",
      "│    └─lstm.bias_ih_l0                   ├─1,024\n",
      "│    └─lstm.bias_hh_l0                   └─1,024\n",
      "│    └─LSTM: 2-1                         265,216\n",
      "│    │    └─weight_ih_l0                 ├─1,024\n",
      "│    │    └─weight_hh_l0                 ├─262,144\n",
      "│    │    └─bias_ih_l0                   ├─1,024\n",
      "│    │    └─bias_hh_l0                   └─1,024\n",
      "├─DenseGCNConv: 1-2                      512\n",
      "│    └─bias                              ├─512\n",
      "│    └─lin.weight                        └─131,072\n",
      "│    └─Linear: 2-2                       131,072\n",
      "│    │    └─weight                       └─131,072\n",
      "├─GraphNorm: 1-3                         1,536\n",
      "│    └─weight                            ├─512\n",
      "│    └─bias                              ├─512\n",
      "│    └─mean_scale                        └─512\n",
      "├─DenseGCNConv: 1-4                      256\n",
      "│    └─bias                              ├─256\n",
      "│    └─lin.weight                        └─131,072\n",
      "│    └─Linear: 2-3                       131,072\n",
      "│    │    └─weight                       └─131,072\n",
      "├─GraphNorm: 1-5                         768\n",
      "│    └─weight                            ├─256\n",
      "│    └─bias                              ├─256\n",
      "│    └─mean_scale                        └─256\n",
      "├─AdaptiveAvgPool1d: 1-6                 --\n",
      "├─Linear: 1-7                            514\n",
      "│    └─weight                            ├─512\n",
      "│    └─bias                              └─2\n",
      "============================================================\n",
      "Total params: 530,946\n",
      "Trainable params: 530,946\n",
      "Non-trainable params: 0\n",
      "============================================================\n",
      "============================================================\n",
      "Layer (type:depth-idx)                   Param #\n",
      "============================================================\n",
      "CausalGNN                                --\n",
      "├─TemporalLSTM: 1-1                      --\n",
      "│    └─lstm.weight_ih_l0                 ├─1,024\n",
      "│    └─lstm.weight_hh_l0                 ├─262,144\n",
      "│    └─lstm.bias_ih_l0                   ├─1,024\n",
      "│    └─lstm.bias_hh_l0                   └─1,024\n",
      "│    └─LSTM: 2-1                         265,216\n",
      "│    │    └─weight_ih_l0                 ├─1,024\n",
      "│    │    └─weight_hh_l0                 ├─262,144\n",
      "│    │    └─bias_ih_l0                   ├─1,024\n",
      "│    │    └─bias_hh_l0                   └─1,024\n",
      "├─DenseGCNConv: 1-2                      512\n",
      "│    └─bias                              ├─512\n",
      "│    └─lin.weight                        └─131,072\n",
      "│    └─Linear: 2-2                       131,072\n",
      "│    │    └─weight                       └─131,072\n",
      "├─GraphNorm: 1-3                         1,536\n",
      "│    └─weight                            ├─512\n",
      "│    └─bias                              ├─512\n",
      "│    └─mean_scale                        └─512\n",
      "├─DenseGCNConv: 1-4                      256\n",
      "│    └─bias                              ├─256\n",
      "│    └─lin.weight                        └─131,072\n",
      "│    └─Linear: 2-3                       131,072\n",
      "│    │    └─weight                       └─131,072\n",
      "├─GraphNorm: 1-5                         768\n",
      "│    └─weight                            ├─256\n",
      "│    └─bias                              ├─256\n",
      "│    └─mean_scale                        └─256\n",
      "├─AdaptiveAvgPool1d: 1-6                 --\n",
      "├─Linear: 1-7                            514\n",
      "│    └─weight                            ├─512\n",
      "│    └─bias                              └─2\n",
      "============================================================\n",
      "Total params: 530,946\n",
      "Trainable params: 530,946\n",
      "Non-trainable params: 0\n",
      "============================================================\n"
     ]
    }
   ],
   "source": [
    "model = CausalGNN(\n",
    "    adj_matrix=matrix_tensor,\n",
    "    num_nodes=config['gnn_nodes'],\n",
    "    hidden_dim=config['hidden_dim']\n",
    ").to(device)\n",
    "\n",
    "pmodel_stats = summary(model,     # which columns to show\n",
    "    col_width=20,\n",
    "    verbose=2)\n",
    "print(pmodel_stats)\n"
   ]
  },
  {
   "cell_type": "markdown",
   "id": "a86d6d91",
   "metadata": {},
   "source": [
    "## Trainer"
   ]
  },
  {
   "cell_type": "code",
   "execution_count": null,
   "id": "6983175c",
   "metadata": {},
   "outputs": [],
   "source": []
  },
  {
   "cell_type": "code",
   "execution_count": 13,
   "id": "57299fe5",
   "metadata": {},
   "outputs": [
    {
     "name": "stderr",
     "output_type": "stream",
     "text": [
      "Training:   0%|          | 0/30 [00:00<?, ?it/s]"
     ]
    },
    {
     "name": "stderr",
     "output_type": "stream",
     "text": [
      "Ep1 | tr loss 0.411 acc 0.844 | val loss 0.327 auroc 0.892 auprc 0.612:   3%|▎         | 1/30 [00:01<00:38,  1.34s/it]"
     ]
    },
    {
     "name": "stdout",
     "output_type": "stream",
     "text": [
      "\n",
      "Epoch 1:\n",
      "  Train → loss 0.4112, acc 0.8445\n",
      "  Val   → loss 0.3273, acc 0.8580, AUROC 0.8919, AUPRC 0.6115\n"
     ]
    },
    {
     "name": "stderr",
     "output_type": "stream",
     "text": [
      "Ep2 | tr loss 0.273 acc 0.883 | val loss 0.289 auroc 0.910 auprc 0.614:   7%|▋         | 2/30 [00:02<00:33,  1.19s/it]"
     ]
    },
    {
     "name": "stdout",
     "output_type": "stream",
     "text": [
      "\n",
      "Epoch 2:\n",
      "  Train → loss 0.2731, acc 0.8834\n",
      "  Val   → loss 0.2890, acc 0.8653, AUROC 0.9095, AUPRC 0.6141\n"
     ]
    },
    {
     "name": "stderr",
     "output_type": "stream",
     "text": [
      "Ep3 | tr loss 0.252 acc 0.891 | val loss 0.277 auroc 0.918 auprc 0.644:  10%|█         | 3/30 [00:03<00:31,  1.15s/it]"
     ]
    },
    {
     "name": "stdout",
     "output_type": "stream",
     "text": [
      "\n",
      "Epoch 3:\n",
      "  Train → loss 0.2525, acc 0.8910\n",
      "  Val   → loss 0.2765, acc 0.8650, AUROC 0.9183, AUPRC 0.6443\n"
     ]
    },
    {
     "name": "stderr",
     "output_type": "stream",
     "text": [
      "Ep4 | tr loss 0.241 acc 0.898 | val loss 0.324 auroc 0.905 auprc 0.583:  13%|█▎        | 4/30 [00:04<00:29,  1.13s/it]"
     ]
    },
    {
     "name": "stdout",
     "output_type": "stream",
     "text": [
      "\n",
      "Epoch 4:\n",
      "  Train → loss 0.2412, acc 0.8975\n",
      "  Val   → loss 0.3242, acc 0.8357, AUROC 0.9055, AUPRC 0.5834\n"
     ]
    },
    {
     "name": "stderr",
     "output_type": "stream",
     "text": [
      "Ep5 | tr loss 0.237 acc 0.897 | val loss 0.263 auroc 0.927 auprc 0.671:  17%|█▋        | 5/30 [00:05<00:28,  1.13s/it]"
     ]
    },
    {
     "name": "stdout",
     "output_type": "stream",
     "text": [
      "\n",
      "Epoch 5:\n",
      "  Train → loss 0.2369, acc 0.8972\n",
      "  Val   → loss 0.2625, acc 0.8782, AUROC 0.9266, AUPRC 0.6710\n"
     ]
    },
    {
     "name": "stderr",
     "output_type": "stream",
     "text": [
      "Ep6 | tr loss 0.233 acc 0.900 | val loss 0.311 auroc 0.926 auprc 0.655:  20%|██        | 6/30 [00:06<00:27,  1.14s/it]"
     ]
    },
    {
     "name": "stdout",
     "output_type": "stream",
     "text": [
      "\n",
      "Epoch 6:\n",
      "  Train → loss 0.2326, acc 0.9002\n",
      "  Val   → loss 0.3108, acc 0.8479, AUROC 0.9262, AUPRC 0.6549\n"
     ]
    },
    {
     "name": "stderr",
     "output_type": "stream",
     "text": [
      "Ep7 | tr loss 0.223 acc 0.905 | val loss 0.264 auroc 0.927 auprc 0.640:  23%|██▎       | 7/30 [00:08<00:25,  1.13s/it]"
     ]
    },
    {
     "name": "stdout",
     "output_type": "stream",
     "text": [
      "\n",
      "Epoch 7:\n",
      "  Train → loss 0.2229, acc 0.9045\n",
      "  Val   → loss 0.2639, acc 0.8754, AUROC 0.9268, AUPRC 0.6404\n"
     ]
    },
    {
     "name": "stderr",
     "output_type": "stream",
     "text": [
      "Ep8 | tr loss 0.218 acc 0.906 | val loss 0.337 auroc 0.911 auprc 0.602:  27%|██▋       | 8/30 [00:09<00:24,  1.13s/it]"
     ]
    },
    {
     "name": "stdout",
     "output_type": "stream",
     "text": [
      "\n",
      "Epoch 8:\n",
      "  Train → loss 0.2183, acc 0.9055\n",
      "  Val   → loss 0.3367, acc 0.8587, AUROC 0.9106, AUPRC 0.6023\n"
     ]
    },
    {
     "name": "stderr",
     "output_type": "stream",
     "text": [
      "Ep9 | tr loss 0.220 acc 0.907 | val loss 0.249 auroc 0.928 auprc 0.643:  30%|███       | 9/30 [00:10<00:23,  1.14s/it]"
     ]
    },
    {
     "name": "stdout",
     "output_type": "stream",
     "text": [
      "\n",
      "Epoch 9:\n",
      "  Train → loss 0.2202, acc 0.9069\n",
      "  Val   → loss 0.2488, acc 0.8775, AUROC 0.9285, AUPRC 0.6431\n"
     ]
    },
    {
     "name": "stderr",
     "output_type": "stream",
     "text": [
      "Ep10 | tr loss 0.211 acc 0.910 | val loss 0.275 auroc 0.930 auprc 0.656:  33%|███▎      | 10/30 [00:11<00:22,  1.13s/it]"
     ]
    },
    {
     "name": "stdout",
     "output_type": "stream",
     "text": [
      "\n",
      "Epoch 10:\n",
      "  Train → loss 0.2108, acc 0.9098\n",
      "  Val   → loss 0.2754, acc 0.8730, AUROC 0.9296, AUPRC 0.6558\n"
     ]
    },
    {
     "name": "stderr",
     "output_type": "stream",
     "text": [
      "Ep11 | tr loss 0.207 acc 0.911 | val loss 0.304 auroc 0.928 auprc 0.656:  37%|███▋      | 11/30 [00:12<00:21,  1.14s/it]"
     ]
    },
    {
     "name": "stdout",
     "output_type": "stream",
     "text": [
      "\n",
      "Epoch 11:\n",
      "  Train → loss 0.2067, acc 0.9113\n",
      "  Val   → loss 0.3043, acc 0.8514, AUROC 0.9279, AUPRC 0.6564\n"
     ]
    },
    {
     "name": "stderr",
     "output_type": "stream",
     "text": [
      "Ep12 | tr loss 0.204 acc 0.912 | val loss 0.266 auroc 0.924 auprc 0.624:  40%|████      | 12/30 [00:13<00:20,  1.14s/it]"
     ]
    },
    {
     "name": "stdout",
     "output_type": "stream",
     "text": [
      "\n",
      "Epoch 12:\n",
      "  Train → loss 0.2040, acc 0.9121\n",
      "  Val   → loss 0.2656, acc 0.8706, AUROC 0.9235, AUPRC 0.6239\n"
     ]
    },
    {
     "name": "stderr",
     "output_type": "stream",
     "text": [
      "Ep13 | tr loss 0.198 acc 0.916 | val loss 0.257 auroc 0.931 auprc 0.667:  43%|████▎     | 13/30 [00:14<00:19,  1.13s/it]"
     ]
    },
    {
     "name": "stdout",
     "output_type": "stream",
     "text": [
      "\n",
      "Epoch 13:\n",
      "  Train → loss 0.1981, acc 0.9158\n",
      "  Val   → loss 0.2574, acc 0.8779, AUROC 0.9310, AUPRC 0.6670\n"
     ]
    },
    {
     "name": "stderr",
     "output_type": "stream",
     "text": [
      "Ep14 | tr loss 0.195 acc 0.918 | val loss 0.254 auroc 0.929 auprc 0.658:  47%|████▋     | 14/30 [00:15<00:18,  1.13s/it]"
     ]
    },
    {
     "name": "stdout",
     "output_type": "stream",
     "text": [
      "\n",
      "Epoch 14:\n",
      "  Train → loss 0.1949, acc 0.9179\n",
      "  Val   → loss 0.2543, acc 0.8758, AUROC 0.9286, AUPRC 0.6582\n"
     ]
    },
    {
     "name": "stderr",
     "output_type": "stream",
     "text": [
      "Ep15 | tr loss 0.192 acc 0.920 | val loss 0.258 auroc 0.930 auprc 0.657:  50%|█████     | 15/30 [00:17<00:16,  1.12s/it]"
     ]
    },
    {
     "name": "stdout",
     "output_type": "stream",
     "text": [
      "\n",
      "Epoch 15:\n",
      "  Train → loss 0.1916, acc 0.9198\n",
      "  Val   → loss 0.2576, acc 0.8824, AUROC 0.9300, AUPRC 0.6574\n"
     ]
    },
    {
     "name": "stderr",
     "output_type": "stream",
     "text": [
      "Ep16 | tr loss 0.175 acc 0.927 | val loss 0.246 auroc 0.932 auprc 0.677:  53%|█████▎    | 16/30 [00:18<00:15,  1.12s/it]"
     ]
    },
    {
     "name": "stdout",
     "output_type": "stream",
     "text": [
      "\n",
      "Epoch 16:\n",
      "  Train → loss 0.1748, acc 0.9265\n",
      "  Val   → loss 0.2463, acc 0.8803, AUROC 0.9316, AUPRC 0.6771\n"
     ]
    },
    {
     "name": "stderr",
     "output_type": "stream",
     "text": [
      "Ep17 | tr loss 0.168 acc 0.929 | val loss 0.243 auroc 0.936 auprc 0.684:  57%|█████▋    | 17/30 [00:19<00:14,  1.13s/it]"
     ]
    },
    {
     "name": "stdout",
     "output_type": "stream",
     "text": [
      "\n",
      "Epoch 17:\n",
      "  Train → loss 0.1676, acc 0.9295\n",
      "  Val   → loss 0.2426, acc 0.8883, AUROC 0.9356, AUPRC 0.6835\n"
     ]
    },
    {
     "name": "stderr",
     "output_type": "stream",
     "text": [
      "Ep18 | tr loss 0.164 acc 0.931 | val loss 0.260 auroc 0.930 auprc 0.661:  60%|██████    | 18/30 [00:20<00:13,  1.12s/it]"
     ]
    },
    {
     "name": "stdout",
     "output_type": "stream",
     "text": [
      "\n",
      "Epoch 18:\n",
      "  Train → loss 0.1645, acc 0.9315\n",
      "  Val   → loss 0.2598, acc 0.8824, AUROC 0.9299, AUPRC 0.6614\n"
     ]
    },
    {
     "name": "stderr",
     "output_type": "stream",
     "text": [
      "Ep19 | tr loss 0.162 acc 0.933 | val loss 0.293 auroc 0.911 auprc 0.620:  63%|██████▎   | 19/30 [00:21<00:12,  1.13s/it]"
     ]
    },
    {
     "name": "stdout",
     "output_type": "stream",
     "text": [
      "\n",
      "Epoch 19:\n",
      "  Train → loss 0.1616, acc 0.9335\n",
      "  Val   → loss 0.2934, acc 0.8636, AUROC 0.9113, AUPRC 0.6198\n"
     ]
    },
    {
     "name": "stderr",
     "output_type": "stream",
     "text": [
      "Ep20 | tr loss 0.159 acc 0.934 | val loss 0.264 auroc 0.940 auprc 0.709:  67%|██████▋   | 20/30 [00:22<00:11,  1.13s/it]"
     ]
    },
    {
     "name": "stdout",
     "output_type": "stream",
     "text": [
      "\n",
      "Epoch 20:\n",
      "  Train → loss 0.1594, acc 0.9344\n",
      "  Val   → loss 0.2636, acc 0.8730, AUROC 0.9404, AUPRC 0.7093\n"
     ]
    },
    {
     "name": "stderr",
     "output_type": "stream",
     "text": [
      "Ep21 | tr loss 0.154 acc 0.937 | val loss 0.254 auroc 0.930 auprc 0.660:  70%|███████   | 21/30 [00:23<00:10,  1.13s/it]"
     ]
    },
    {
     "name": "stdout",
     "output_type": "stream",
     "text": [
      "\n",
      "Epoch 21:\n",
      "  Train → loss 0.1545, acc 0.9371\n",
      "  Val   → loss 0.2544, acc 0.8887, AUROC 0.9304, AUPRC 0.6605\n"
     ]
    },
    {
     "name": "stderr",
     "output_type": "stream",
     "text": [
      "Ep22 | tr loss 0.151 acc 0.938 | val loss 0.238 auroc 0.939 auprc 0.714:  73%|███████▎  | 22/30 [00:24<00:08,  1.12s/it]"
     ]
    },
    {
     "name": "stdout",
     "output_type": "stream",
     "text": [
      "\n",
      "Epoch 22:\n",
      "  Train → loss 0.1508, acc 0.9382\n",
      "  Val   → loss 0.2382, acc 0.8911, AUROC 0.9391, AUPRC 0.7142\n"
     ]
    },
    {
     "name": "stderr",
     "output_type": "stream",
     "text": [
      "Ep23 | tr loss 0.147 acc 0.940 | val loss 0.263 auroc 0.929 auprc 0.690:  77%|███████▋  | 23/30 [00:26<00:07,  1.12s/it]"
     ]
    },
    {
     "name": "stdout",
     "output_type": "stream",
     "text": [
      "\n",
      "Epoch 23:\n",
      "  Train → loss 0.1472, acc 0.9396\n",
      "  Val   → loss 0.2627, acc 0.8870, AUROC 0.9285, AUPRC 0.6895\n"
     ]
    },
    {
     "name": "stderr",
     "output_type": "stream",
     "text": [
      "Ep24 | tr loss 0.144 acc 0.942 | val loss 0.254 auroc 0.931 auprc 0.685:  80%|████████  | 24/30 [00:27<00:06,  1.11s/it]"
     ]
    },
    {
     "name": "stdout",
     "output_type": "stream",
     "text": [
      "\n",
      "Epoch 24:\n",
      "  Train → loss 0.1437, acc 0.9416\n",
      "  Val   → loss 0.2544, acc 0.8883, AUROC 0.9312, AUPRC 0.6845\n"
     ]
    },
    {
     "name": "stderr",
     "output_type": "stream",
     "text": [
      "Ep25 | tr loss 0.137 acc 0.944 | val loss 0.264 auroc 0.928 auprc 0.663:  83%|████████▎ | 25/30 [00:28<00:05,  1.11s/it]"
     ]
    },
    {
     "name": "stdout",
     "output_type": "stream",
     "text": [
      "\n",
      "Epoch 25:\n",
      "  Train → loss 0.1374, acc 0.9442\n",
      "  Val   → loss 0.2636, acc 0.8908, AUROC 0.9278, AUPRC 0.6631\n"
     ]
    },
    {
     "name": "stderr",
     "output_type": "stream",
     "text": [
      "Ep26 | tr loss 0.131 acc 0.947 | val loss 0.284 auroc 0.920 auprc 0.674:  87%|████████▋ | 26/30 [00:29<00:04,  1.11s/it]"
     ]
    },
    {
     "name": "stdout",
     "output_type": "stream",
     "text": [
      "\n",
      "Epoch 26:\n",
      "  Train → loss 0.1307, acc 0.9466\n",
      "  Val   → loss 0.2838, acc 0.8796, AUROC 0.9203, AUPRC 0.6745\n"
     ]
    },
    {
     "name": "stderr",
     "output_type": "stream",
     "text": [
      "Ep27 | tr loss 0.128 acc 0.948 | val loss 0.297 auroc 0.913 auprc 0.640:  90%|█████████ | 27/30 [00:30<00:03,  1.12s/it]"
     ]
    },
    {
     "name": "stdout",
     "output_type": "stream",
     "text": [
      "\n",
      "Epoch 27:\n",
      "  Train → loss 0.1280, acc 0.9483\n",
      "  Val   → loss 0.2970, acc 0.8782, AUROC 0.9134, AUPRC 0.6401\n"
     ]
    },
    {
     "name": "stderr",
     "output_type": "stream",
     "text": [
      "Ep28 | tr loss 0.123 acc 0.950 | val loss 0.296 auroc 0.926 auprc 0.658:  93%|█████████▎| 28/30 [00:31<00:02,  1.11s/it]"
     ]
    },
    {
     "name": "stdout",
     "output_type": "stream",
     "text": [
      "\n",
      "Epoch 28:\n",
      "  Train → loss 0.1231, acc 0.9502\n",
      "  Val   → loss 0.2956, acc 0.8716, AUROC 0.9257, AUPRC 0.6583\n"
     ]
    },
    {
     "name": "stderr",
     "output_type": "stream",
     "text": [
      "Ep29 | tr loss 0.104 acc 0.959 | val loss 0.298 auroc 0.921 auprc 0.656:  97%|█████████▋| 29/30 [00:32<00:01,  1.13s/it]"
     ]
    },
    {
     "name": "stdout",
     "output_type": "stream",
     "text": [
      "\n",
      "Epoch 29:\n",
      "  Train → loss 0.1039, acc 0.9594\n",
      "  Val   → loss 0.2977, acc 0.8765, AUROC 0.9207, AUPRC 0.6559\n"
     ]
    },
    {
     "name": "stderr",
     "output_type": "stream",
     "text": [
      "Ep30 | tr loss 0.099 acc 0.963 | val loss 0.316 auroc 0.914 auprc 0.659: 100%|██████████| 30/30 [00:33<00:00,  1.13s/it]\n"
     ]
    },
    {
     "name": "stdout",
     "output_type": "stream",
     "text": [
      "\n",
      "Epoch 30:\n",
      "  Train → loss 0.0987, acc 0.9630\n",
      "  Val   → loss 0.3159, acc 0.8796, AUROC 0.9145, AUPRC 0.6591\n",
      "\n",
      "🟢 Best Val AUROC: 0.9404\n"
     ]
    },
    {
     "name": "stderr",
     "output_type": "stream",
     "text": [
      "                                                         "
     ]
    },
    {
     "name": "stdout",
     "output_type": "stream",
     "text": [
      "Test → loss 0.2758, acc 0.8940, AUROC 0.9329, AUPRC 0.7307\n"
     ]
    },
    {
     "name": "stderr",
     "output_type": "stream",
     "text": [
      "\r"
     ]
    }
   ],
   "source": [
    "from train import train\n",
    "\n",
    "# 1) 先实例化一个 Trainer 对象\n",
    "trainer = train.Trainer(\n",
    "    model=model,\n",
    "    train_loader=train_loader,\n",
    "    val_loader=val_loader,\n",
    "    test_loader=test_loader\n",
    ")\n",
    "\n",
    "# 2) 调用 fit() 开始训练（30 epochs 只是举例，改成你想要的次数）\n",
    "trainer.fit(num_epochs=30)\n",
    "\n",
    "# 3) 最后调用 test() 在测试集上评估性能\n",
    "trainer.test()"
   ]
  }
 ],
 "metadata": {
  "kernelspec": {
   "display_name": "hw4",
   "language": "python",
   "name": "python3"
  },
  "language_info": {
   "codemirror_mode": {
    "name": "ipython",
    "version": 3
   },
   "file_extension": ".py",
   "mimetype": "text/x-python",
   "name": "python",
   "nbconvert_exporter": "python",
   "pygments_lexer": "ipython3",
   "version": "3.12.4"
  }
 },
 "nbformat": 4,
 "nbformat_minor": 5
}
