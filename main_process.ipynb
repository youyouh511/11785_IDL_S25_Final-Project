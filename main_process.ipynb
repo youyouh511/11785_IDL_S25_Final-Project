{
 "cells": [
  {
   "cell_type": "markdown",
   "id": "2ec945c3",
   "metadata": {},
   "source": [
    "# 🔥Causal Graph Neural Networks for Wildfire Danger Prediction🔥\n",
    "Re-implementation of original work by Zhao et al.(2024) (https://arxiv.org/abs/2403.08414)\n",
    "\n",
    "IDL S25 Group 23: Wenting Yue, Wenyu Liu, Youyou Huang (Group 23)"
   ]
  },
  {
   "cell_type": "markdown",
   "id": "04e37dc0",
   "metadata": {},
   "source": [
    "## Retrieve files from github repository\n",
    "If `only notebook` is downloaded locally"
   ]
  },
  {
   "cell_type": "code",
   "execution_count": null,
   "id": "339ef5cb",
   "metadata": {},
   "outputs": [
    {
     "name": "stdout",
     "output_type": "stream",
     "text": [
      "Current working directory: /home/ubuntu/11785_IDL_S25_Final-Project\n"
     ]
    }
   ],
   "source": [
    "import os\n",
    "import sys\n",
    "\n",
    "# Get the current working directory\n",
    "print(\"Current working directory:\", os.getcwd())\n",
    "# repo = \"https://github.com/youyouh511/11785_IDL_S25_Final-Project.git\"\n",
    "# !git clone {repo}\n",
    "!git pull"
   ]
  },
  {
   "cell_type": "markdown",
   "id": "8474fc73",
   "metadata": {},
   "source": [
    "# Set up"
   ]
  },
  {
   "cell_type": "markdown",
   "id": "484a6211",
   "metadata": {},
   "source": [
    "## Environment"
   ]
  },
  {
   "cell_type": "markdown",
   "id": "525a0d17",
   "metadata": {},
   "source": [
    "Environment setup\n",
    "```bash\n",
    "conda env create -f env.yml\n",
    "```\n",
    "\n",
    "Activate environment and check device\n",
    "```bash\n",
    "conda activate idl_final\n",
    "python -c \"import torch; print('CUDA available:', torch.cuda.is_available())\"\n",
    "nvidia-smi\n",
    "```"
   ]
  },
  {
   "cell_type": "markdown",
   "id": "1f92f9e4",
   "metadata": {},
   "source": [
    "# Imports"
   ]
  },
  {
   "cell_type": "code",
   "execution_count": null,
   "id": "861ab121",
   "metadata": {},
   "outputs": [
    {
     "name": "stdout",
     "output_type": "stream",
     "text": [
      "Using device: cuda\n"
     ]
    }
   ],
   "source": [
    "from data import (\n",
    "    JsonFireDataset\n",
    ")\n",
    "from model import (\n",
    "    AdjacencyMatrix,\n",
    "    TemporalLSTM,\n",
    "    CausalGNN\n",
    ")\n",
    "# from train import (\n",
    "    \n",
    "# )\n",
    "# from utils import (\n",
    "# )\n",
    "\n",
    "\n",
    "import numpy as np\n",
    "import tqdm\n",
    "import matplotlib.pyplot as plt\n",
    "import json\n",
    "import zipfile\n",
    "import torch\n",
    "import requests\n",
    "import xarray as xr\n",
    "import yaml\n",
    "from torchinfo import summary\n",
    "import shutil\n",
    "import wandb\n",
    "import time\n",
    "device = \"cuda\" if torch.cuda.is_available() else \"cpu\"\n",
    "print(f\"Using device: {device}\")\n"
   ]
  },
  {
   "cell_type": "markdown",
   "id": "3534b843",
   "metadata": {},
   "source": [
    "# Config"
   ]
  },
  {
   "cell_type": "code",
   "execution_count": 11,
   "id": "01908115",
   "metadata": {},
   "outputs": [
    {
     "name": "stdout",
     "output_type": "stream",
     "text": [
      "Writing config.yaml\n"
     ]
    }
   ],
   "source": [
    "%%writefile config.yaml\n",
    "\n",
    "###### Dataset\n",
    "    root                    : \"./data\"\n",
    "    train_json_path         : \"train.json\"\n",
    "    val_json_path           : \"val.json\"\n",
    "    test_json_path          : \"test.json\"\n",
    "    matrix_json_path        : \"matrix.json\"\n",
    "    subset                  : 1.0\n",
    "    batch_size              : 128\n",
    "    NUM_WORKERS             : 4\n",
    "\n",
    "    ### Target threshold\n",
    "    fire_threshold          : 10\n",
    "\n",
    "\n",
    "###### Model\n",
    "    ### Adjacency matrix\n",
    "    local_var_lag           : 8\n",
    "    oci_var_lag             : 31\n",
    "    max_lag                 : 312\n",
    "    independence_test       : \"ParCorr\"\n",
    "    tau_max                 : 186\n",
    "    pc_alpha                : 0.05\n",
    "    mask_target             : True\n",
    "\n",
    "    ### Temporal LSTM\n",
    "    lstm_layer              : 1\n",
    "    hidden_dim              : 256\n",
    "\n",
    "    ### GNN\n",
    "    gnn_nodes               : 7\n",
    "\n",
    "\n",
    "###### Training\n",
    "    epochs                  : 30\n",
    "\n",
    "    lr                      : 1.0e-5\n",
    "    min_lr                  : 1.0e-9\n",
    "    \n",
    "    optimizer               : \"Adam\"\n",
    "    betas                   : [0.9, 0.999]\n",
    "    eps                     : 1.0e-8\n",
    "    weight_decay            : 5.0e-6\n",
    "\n",
    "    lr_scheduler            : \"CosineAnnealingLR\"\n",
    "    patience                : 10\n",
    "    early_stop              : True\n",
    "\n",
    "    save_model              : True\n",
    "    save_model_path         : \"./checkpoints\"\n",
    "    load_model              : False\n",
    "    load_model_path         : \"./checkpoints/best.pth\"\n",
    "    wandb_log               : True\n",
    "    wandb_project           : \"IDL_Final\"\n",
    "    wandb_run_id            : None"
   ]
  },
  {
   "cell_type": "code",
   "execution_count": 12,
   "id": "577f018f",
   "metadata": {},
   "outputs": [
    {
     "data": {
      "text/plain": [
       "{'root': './data',\n",
       " 'train_json_path': 'train.json',\n",
       " 'val_json_path': 'val.json',\n",
       " 'test_json_path': 'test.json',\n",
       " 'matrix_json_path': 'matrix.json',\n",
       " 'subset': 1.0,\n",
       " 'batch_size': 128,\n",
       " 'NUM_WORKERS': 4,\n",
       " 'fire_threshold': 10,\n",
       " 'local_var_lag': 8,\n",
       " 'oci_var_lag': 31,\n",
       " 'max_lag': 312,\n",
       " 'independence_test': 'ParCorr',\n",
       " 'tau_max': 186,\n",
       " 'pc_alpha': 0.05,\n",
       " 'mask_target': True,\n",
       " 'lstm_layer': 1,\n",
       " 'hidden_dim': 256,\n",
       " 'gnn_nodes': 7,\n",
       " 'epochs': 30,\n",
       " 'lr': 1e-05,\n",
       " 'min_lr': 1e-09,\n",
       " 'optimizer': 'Adam',\n",
       " 'betas': [0.9, 0.999],\n",
       " 'eps': 1e-08,\n",
       " 'weight_decay': 5e-06,\n",
       " 'lr_scheduler': 'CosineAnnealingLR',\n",
       " 'patience': 10,\n",
       " 'early_stop': True,\n",
       " 'save_model': True,\n",
       " 'save_model_path': './checkpoints',\n",
       " 'load_model': False,\n",
       " 'load_model_path': './checkpoints/best.pth',\n",
       " 'wandb_log': True,\n",
       " 'wandb_project': 'IDL_Final',\n",
       " 'wandb_run_id': 'None'}"
      ]
     },
     "execution_count": 12,
     "metadata": {},
     "output_type": "execute_result"
    }
   ],
   "source": [
    "with open('config.yaml', 'r') as file:\n",
    "    config = yaml.safe_load(file)\n",
    "\n",
    "config"
   ]
  },
  {
   "cell_type": "markdown",
   "id": "0fb2ce69",
   "metadata": {},
   "source": [
    "# Data Retrieval & Pre-process"
   ]
  },
  {
   "cell_type": "markdown",
   "id": "acb6313c",
   "metadata": {},
   "source": [
    "### Download"
   ]
  },
  {
   "cell_type": "markdown",
   "id": "35b2799e",
   "metadata": {},
   "source": [
    "### Filter"
   ]
  },
  {
   "cell_type": "markdown",
   "id": "79f6b50b",
   "metadata": {},
   "source": [
    "### Sample"
   ]
  },
  {
   "cell_type": "markdown",
   "id": "4ff94012",
   "metadata": {},
   "source": [
    "# Run data retrieval & filtering"
   ]
  },
  {
   "cell_type": "code",
   "execution_count": 35,
   "id": "cb400690",
   "metadata": {},
   "outputs": [
    {
     "ename": "TypeError",
     "evalue": "'NoneType' object is not subscriptable",
     "output_type": "error",
     "traceback": [
      "\u001b[0;31m---------------------------------------------------------------------------\u001b[0m",
      "\u001b[0;31mTypeError\u001b[0m                                 Traceback (most recent call last)",
      "Cell \u001b[0;32mIn[35], line 6\u001b[0m\n\u001b[1;32m      1\u001b[0m \u001b[38;5;66;03m# earth_graph(dataset['FCCI_BA'], 763, 1, latitude2index(latitude), longitude2index(longitude))\u001b[39;00m\n\u001b[1;32m      2\u001b[0m \n\u001b[1;32m      3\u001b[0m \u001b[38;5;66;03m# Export json files\u001b[39;00m\n\u001b[1;32m      4\u001b[0m \u001b[38;5;66;03m# For real implementation, suggest the fire_threshold to be 1?\u001b[39;00m\n\u001b[1;32m      5\u001b[0m thredshold \u001b[38;5;241m=\u001b[39m config[\u001b[38;5;124m'\u001b[39m\u001b[38;5;124mfire_threshold\u001b[39m\u001b[38;5;124m'\u001b[39m]\n\u001b[0;32m----> 6\u001b[0m \u001b[43mbuild_dataset\u001b[49m\u001b[43m(\u001b[49m\u001b[43mdataset\u001b[49m\u001b[38;5;241;43m=\u001b[39;49m\u001b[43mdataset\u001b[49m\u001b[43m,\u001b[49m\u001b[43m \u001b[49m\u001b[38;5;28;43mtype\u001b[39;49m\u001b[38;5;241;43m=\u001b[39;49m\u001b[38;5;124;43m'\u001b[39;49m\u001b[38;5;124;43mtrain\u001b[39;49m\u001b[38;5;124;43m'\u001b[39;49m\u001b[43m,\u001b[49m\u001b[43m \u001b[49m\u001b[43mfire_threshold\u001b[49m\u001b[38;5;241;43m=\u001b[39;49m\u001b[43mthredshold\u001b[49m\u001b[43m)\u001b[49m\n\u001b[1;32m      7\u001b[0m build_dataset(dataset\u001b[38;5;241m=\u001b[39mdataset, \u001b[38;5;28mtype\u001b[39m\u001b[38;5;241m=\u001b[39m\u001b[38;5;124m'\u001b[39m\u001b[38;5;124mval\u001b[39m\u001b[38;5;124m'\u001b[39m, fire_threshold\u001b[38;5;241m=\u001b[39mthredshold)\n\u001b[1;32m      8\u001b[0m build_dataset(dataset\u001b[38;5;241m=\u001b[39mdataset, \u001b[38;5;28mtype\u001b[39m\u001b[38;5;241m=\u001b[39m\u001b[38;5;124m'\u001b[39m\u001b[38;5;124mtest\u001b[39m\u001b[38;5;124m'\u001b[39m, fire_threshold\u001b[38;5;241m=\u001b[39mthredshold)\n",
      "Cell \u001b[0;32mIn[34], line 67\u001b[0m, in \u001b[0;36mbuild_dataset\u001b[0;34m(dataset, type, latitude, longitude, NPR, fire_threshold, time_lag, fire_var, local_var, ocis)\u001b[0m\n\u001b[1;32m     64\u001b[0m core_len   \u001b[38;5;241m=\u001b[39m total_steps \u001b[38;5;241m-\u001b[39m time_lag\n\u001b[1;32m     66\u001b[0m \u001b[38;5;66;03m# 2) load fire and predictors ONCE\u001b[39;00m\n\u001b[0;32m---> 67\u001b[0m fire_arr \u001b[38;5;241m=\u001b[39m select_spatio_temporal_data(\u001b[43mdataset\u001b[49m\u001b[43m[\u001b[49m\u001b[43mfire_var\u001b[49m\u001b[43m]\u001b[49m, core_start, core_len, lat_idx, lon_idx)\u001b[38;5;241m.\u001b[39mvalues\n\u001b[1;32m     69\u001b[0m local_arrs \u001b[38;5;241m=\u001b[39m {\n\u001b[1;32m     70\u001b[0m     v: select_spatio_temporal_data(dataset[v], initial_t, total_steps, lat_idx, lon_idx)\u001b[38;5;241m.\u001b[39mvalues\n\u001b[1;32m     71\u001b[0m     \u001b[38;5;28;01mfor\u001b[39;00m v \u001b[38;5;129;01min\u001b[39;00m local_var\n\u001b[1;32m     72\u001b[0m }\n\u001b[1;32m     73\u001b[0m oci_arrs \u001b[38;5;241m=\u001b[39m {\n\u001b[1;32m     74\u001b[0m     v: select_spatio_temporal_data(dataset[v], initial_t, total_steps, lat_idx, lon_idx)\u001b[38;5;241m.\u001b[39mvalues\n\u001b[1;32m     75\u001b[0m     \u001b[38;5;28;01mfor\u001b[39;00m v \u001b[38;5;129;01min\u001b[39;00m ocis\n\u001b[1;32m     76\u001b[0m }\n",
      "\u001b[0;31mTypeError\u001b[0m: 'NoneType' object is not subscriptable"
     ]
    }
   ],
   "source": [
    "# earth_graph(dataset['FCCI_BA'], 763, 1, latitude2index(latitude), longitude2index(longitude))\n",
    "\n",
    "# Export json files\n",
    "# For real implementation, suggest the fire_threshold to be 1?\n",
    "thredshold = config['fire_threshold']\n",
    "build_dataset(dataset=dataset, type='train', fire_threshold=thredshold)\n",
    "build_dataset(dataset=dataset, type='val', fire_threshold=thredshold)\n",
    "build_dataset(dataset=dataset, type='test', fire_threshold=thredshold)"
   ]
  },
  {
   "cell_type": "markdown",
   "id": "91b39eef",
   "metadata": {},
   "source": [
    "# Datasets"
   ]
  },
  {
   "cell_type": "code",
   "execution_count": 36,
   "id": "64ab8390",
   "metadata": {},
   "outputs": [
    {
     "ename": "JSONDecodeError",
     "evalue": "Expecting ',' delimiter: line 1 column 3739 (char 3738)",
     "output_type": "error",
     "traceback": [
      "\u001b[0;31m---------------------------------------------------------------------------\u001b[0m",
      "\u001b[0;31mJSONDecodeError\u001b[0m                           Traceback (most recent call last)",
      "Cell \u001b[0;32mIn[36], line 1\u001b[0m\n\u001b[0;32m----> 1\u001b[0m train_ds \u001b[38;5;241m=\u001b[39m \u001b[43mJsonFireDataset\u001b[49m\u001b[43m(\u001b[49m\n\u001b[1;32m      2\u001b[0m \u001b[43m    \u001b[49m\u001b[43mjson_path\u001b[49m\u001b[43m   \u001b[49m\u001b[38;5;241;43m=\u001b[39;49m\u001b[43m \u001b[49m\u001b[38;5;124;43m\"\u001b[39;49m\u001b[38;5;124;43mtrain.json\u001b[39;49m\u001b[38;5;124;43m\"\u001b[39;49m\u001b[43m,\u001b[49m\n\u001b[1;32m      3\u001b[0m \u001b[43m    \u001b[49m\u001b[43mlocal_keys\u001b[49m\u001b[43m  \u001b[49m\u001b[38;5;241;43m=\u001b[39;49m\u001b[43m \u001b[49m\u001b[43m[\u001b[49m\u001b[38;5;124;43m\"\u001b[39;49m\u001b[38;5;124;43mT2M\u001b[39;49m\u001b[38;5;124;43m\"\u001b[39;49m\u001b[43m,\u001b[49m\u001b[38;5;124;43m\"\u001b[39;49m\u001b[38;5;124;43mTP\u001b[39;49m\u001b[38;5;124;43m\"\u001b[39;49m\u001b[43m,\u001b[49m\u001b[38;5;124;43m\"\u001b[39;49m\u001b[38;5;124;43mVPD_CF\u001b[39;49m\u001b[38;5;124;43m\"\u001b[39;49m\u001b[43m]\u001b[49m\u001b[43m,\u001b[49m\n\u001b[1;32m      4\u001b[0m \u001b[43m    \u001b[49m\u001b[43moci_keys\u001b[49m\u001b[43m    \u001b[49m\u001b[38;5;241;43m=\u001b[39;49m\u001b[43m \u001b[49m\u001b[43m[\u001b[49m\u001b[38;5;124;43m\"\u001b[39;49m\u001b[38;5;124;43mNAO\u001b[39;49m\u001b[38;5;124;43m\"\u001b[39;49m\u001b[43m,\u001b[49m\u001b[43m \u001b[49m\u001b[38;5;124;43m\"\u001b[39;49m\u001b[38;5;124;43mNINA34_ANOM\u001b[39;49m\u001b[38;5;124;43m\"\u001b[39;49m\u001b[43m]\u001b[49m\n\u001b[1;32m      5\u001b[0m \u001b[43m)\u001b[49m\n\u001b[1;32m      6\u001b[0m val_ds \u001b[38;5;241m=\u001b[39m JsonFireDataset(\n\u001b[1;32m      7\u001b[0m     json_path   \u001b[38;5;241m=\u001b[39m \u001b[38;5;124m\"\u001b[39m\u001b[38;5;124mval.json\u001b[39m\u001b[38;5;124m\"\u001b[39m,\n\u001b[1;32m      8\u001b[0m     local_keys  \u001b[38;5;241m=\u001b[39m [\u001b[38;5;124m\"\u001b[39m\u001b[38;5;124mT2M\u001b[39m\u001b[38;5;124m\"\u001b[39m,\u001b[38;5;124m\"\u001b[39m\u001b[38;5;124mTP\u001b[39m\u001b[38;5;124m\"\u001b[39m,\u001b[38;5;124m\"\u001b[39m\u001b[38;5;124mVPD_CF\u001b[39m\u001b[38;5;124m\"\u001b[39m],\n\u001b[1;32m      9\u001b[0m     oci_keys    \u001b[38;5;241m=\u001b[39m [\u001b[38;5;124m\"\u001b[39m\u001b[38;5;124mNAO\u001b[39m\u001b[38;5;124m\"\u001b[39m, \u001b[38;5;124m\"\u001b[39m\u001b[38;5;124mNINA34_ANOM\u001b[39m\u001b[38;5;124m\"\u001b[39m]\n\u001b[1;32m     10\u001b[0m )\n\u001b[1;32m     11\u001b[0m test_ds \u001b[38;5;241m=\u001b[39m JsonFireDataset(\n\u001b[1;32m     12\u001b[0m     json_path   \u001b[38;5;241m=\u001b[39m \u001b[38;5;124m\"\u001b[39m\u001b[38;5;124mtest.json\u001b[39m\u001b[38;5;124m\"\u001b[39m,\n\u001b[1;32m     13\u001b[0m     local_keys  \u001b[38;5;241m=\u001b[39m [\u001b[38;5;124m\"\u001b[39m\u001b[38;5;124mT2M\u001b[39m\u001b[38;5;124m\"\u001b[39m,\u001b[38;5;124m\"\u001b[39m\u001b[38;5;124mTP\u001b[39m\u001b[38;5;124m\"\u001b[39m,\u001b[38;5;124m\"\u001b[39m\u001b[38;5;124mVPD_CF\u001b[39m\u001b[38;5;124m\"\u001b[39m],\n\u001b[1;32m     14\u001b[0m     oci_keys    \u001b[38;5;241m=\u001b[39m [\u001b[38;5;124m\"\u001b[39m\u001b[38;5;124mNAO\u001b[39m\u001b[38;5;124m\"\u001b[39m, \u001b[38;5;124m\"\u001b[39m\u001b[38;5;124mNINA34_ANOM\u001b[39m\u001b[38;5;124m\"\u001b[39m]\n\u001b[1;32m     15\u001b[0m )\n",
      "File \u001b[0;32m~/11785_IDL_S25_Final-Project/data/dataset.py:17\u001b[0m, in \u001b[0;36mJsonFireDataset.__init__\u001b[0;34m(self, json_path, local_keys, oci_keys)\u001b[0m\n\u001b[1;32m     15\u001b[0m \u001b[38;5;66;03m# load all lines\u001b[39;00m\n\u001b[1;32m     16\u001b[0m \u001b[38;5;28;01mwith\u001b[39;00m \u001b[38;5;28mopen\u001b[39m(json_path, \u001b[38;5;124m'\u001b[39m\u001b[38;5;124mr\u001b[39m\u001b[38;5;124m'\u001b[39m, encoding\u001b[38;5;241m=\u001b[39m\u001b[38;5;124m'\u001b[39m\u001b[38;5;124mutf-8\u001b[39m\u001b[38;5;124m'\u001b[39m) \u001b[38;5;28;01mas\u001b[39;00m f:\n\u001b[0;32m---> 17\u001b[0m     \u001b[38;5;28mself\u001b[39m\u001b[38;5;241m.\u001b[39mrecords \u001b[38;5;241m=\u001b[39m [json\u001b[38;5;241m.\u001b[39mloads(line) \u001b[38;5;28;01mfor\u001b[39;00m line \u001b[38;5;129;01min\u001b[39;00m f]\n\u001b[1;32m     19\u001b[0m \u001b[38;5;66;03m# infer channel order if not given\u001b[39;00m\n\u001b[1;32m     20\u001b[0m first \u001b[38;5;241m=\u001b[39m \u001b[38;5;28mself\u001b[39m\u001b[38;5;241m.\u001b[39mrecords[\u001b[38;5;241m0\u001b[39m]\n",
      "File \u001b[0;32m~/11785_IDL_S25_Final-Project/data/dataset.py:17\u001b[0m, in \u001b[0;36m<listcomp>\u001b[0;34m(.0)\u001b[0m\n\u001b[1;32m     15\u001b[0m \u001b[38;5;66;03m# load all lines\u001b[39;00m\n\u001b[1;32m     16\u001b[0m \u001b[38;5;28;01mwith\u001b[39;00m \u001b[38;5;28mopen\u001b[39m(json_path, \u001b[38;5;124m'\u001b[39m\u001b[38;5;124mr\u001b[39m\u001b[38;5;124m'\u001b[39m, encoding\u001b[38;5;241m=\u001b[39m\u001b[38;5;124m'\u001b[39m\u001b[38;5;124mutf-8\u001b[39m\u001b[38;5;124m'\u001b[39m) \u001b[38;5;28;01mas\u001b[39;00m f:\n\u001b[0;32m---> 17\u001b[0m     \u001b[38;5;28mself\u001b[39m\u001b[38;5;241m.\u001b[39mrecords \u001b[38;5;241m=\u001b[39m [\u001b[43mjson\u001b[49m\u001b[38;5;241;43m.\u001b[39;49m\u001b[43mloads\u001b[49m\u001b[43m(\u001b[49m\u001b[43mline\u001b[49m\u001b[43m)\u001b[49m \u001b[38;5;28;01mfor\u001b[39;00m line \u001b[38;5;129;01min\u001b[39;00m f]\n\u001b[1;32m     19\u001b[0m \u001b[38;5;66;03m# infer channel order if not given\u001b[39;00m\n\u001b[1;32m     20\u001b[0m first \u001b[38;5;241m=\u001b[39m \u001b[38;5;28mself\u001b[39m\u001b[38;5;241m.\u001b[39mrecords[\u001b[38;5;241m0\u001b[39m]\n",
      "File \u001b[0;32m~/miniconda/envs/idl_final/lib/python3.9/json/__init__.py:346\u001b[0m, in \u001b[0;36mloads\u001b[0;34m(s, cls, object_hook, parse_float, parse_int, parse_constant, object_pairs_hook, **kw)\u001b[0m\n\u001b[1;32m    341\u001b[0m     s \u001b[38;5;241m=\u001b[39m s\u001b[38;5;241m.\u001b[39mdecode(detect_encoding(s), \u001b[38;5;124m'\u001b[39m\u001b[38;5;124msurrogatepass\u001b[39m\u001b[38;5;124m'\u001b[39m)\n\u001b[1;32m    343\u001b[0m \u001b[38;5;28;01mif\u001b[39;00m (\u001b[38;5;28mcls\u001b[39m \u001b[38;5;129;01mis\u001b[39;00m \u001b[38;5;28;01mNone\u001b[39;00m \u001b[38;5;129;01mand\u001b[39;00m object_hook \u001b[38;5;129;01mis\u001b[39;00m \u001b[38;5;28;01mNone\u001b[39;00m \u001b[38;5;129;01mand\u001b[39;00m\n\u001b[1;32m    344\u001b[0m         parse_int \u001b[38;5;129;01mis\u001b[39;00m \u001b[38;5;28;01mNone\u001b[39;00m \u001b[38;5;129;01mand\u001b[39;00m parse_float \u001b[38;5;129;01mis\u001b[39;00m \u001b[38;5;28;01mNone\u001b[39;00m \u001b[38;5;129;01mand\u001b[39;00m\n\u001b[1;32m    345\u001b[0m         parse_constant \u001b[38;5;129;01mis\u001b[39;00m \u001b[38;5;28;01mNone\u001b[39;00m \u001b[38;5;129;01mand\u001b[39;00m object_pairs_hook \u001b[38;5;129;01mis\u001b[39;00m \u001b[38;5;28;01mNone\u001b[39;00m \u001b[38;5;129;01mand\u001b[39;00m \u001b[38;5;129;01mnot\u001b[39;00m kw):\n\u001b[0;32m--> 346\u001b[0m     \u001b[38;5;28;01mreturn\u001b[39;00m \u001b[43m_default_decoder\u001b[49m\u001b[38;5;241;43m.\u001b[39;49m\u001b[43mdecode\u001b[49m\u001b[43m(\u001b[49m\u001b[43ms\u001b[49m\u001b[43m)\u001b[49m\n\u001b[1;32m    347\u001b[0m \u001b[38;5;28;01mif\u001b[39;00m \u001b[38;5;28mcls\u001b[39m \u001b[38;5;129;01mis\u001b[39;00m \u001b[38;5;28;01mNone\u001b[39;00m:\n\u001b[1;32m    348\u001b[0m     \u001b[38;5;28mcls\u001b[39m \u001b[38;5;241m=\u001b[39m JSONDecoder\n",
      "File \u001b[0;32m~/miniconda/envs/idl_final/lib/python3.9/json/decoder.py:337\u001b[0m, in \u001b[0;36mJSONDecoder.decode\u001b[0;34m(self, s, _w)\u001b[0m\n\u001b[1;32m    332\u001b[0m \u001b[38;5;28;01mdef\u001b[39;00m\u001b[38;5;250m \u001b[39m\u001b[38;5;21mdecode\u001b[39m(\u001b[38;5;28mself\u001b[39m, s, _w\u001b[38;5;241m=\u001b[39mWHITESPACE\u001b[38;5;241m.\u001b[39mmatch):\n\u001b[1;32m    333\u001b[0m \u001b[38;5;250m    \u001b[39m\u001b[38;5;124;03m\"\"\"Return the Python representation of ``s`` (a ``str`` instance\u001b[39;00m\n\u001b[1;32m    334\u001b[0m \u001b[38;5;124;03m    containing a JSON document).\u001b[39;00m\n\u001b[1;32m    335\u001b[0m \n\u001b[1;32m    336\u001b[0m \u001b[38;5;124;03m    \"\"\"\u001b[39;00m\n\u001b[0;32m--> 337\u001b[0m     obj, end \u001b[38;5;241m=\u001b[39m \u001b[38;5;28;43mself\u001b[39;49m\u001b[38;5;241;43m.\u001b[39;49m\u001b[43mraw_decode\u001b[49m\u001b[43m(\u001b[49m\u001b[43ms\u001b[49m\u001b[43m,\u001b[49m\u001b[43m \u001b[49m\u001b[43midx\u001b[49m\u001b[38;5;241;43m=\u001b[39;49m\u001b[43m_w\u001b[49m\u001b[43m(\u001b[49m\u001b[43ms\u001b[49m\u001b[43m,\u001b[49m\u001b[43m \u001b[49m\u001b[38;5;241;43m0\u001b[39;49m\u001b[43m)\u001b[49m\u001b[38;5;241;43m.\u001b[39;49m\u001b[43mend\u001b[49m\u001b[43m(\u001b[49m\u001b[43m)\u001b[49m\u001b[43m)\u001b[49m\n\u001b[1;32m    338\u001b[0m     end \u001b[38;5;241m=\u001b[39m _w(s, end)\u001b[38;5;241m.\u001b[39mend()\n\u001b[1;32m    339\u001b[0m     \u001b[38;5;28;01mif\u001b[39;00m end \u001b[38;5;241m!=\u001b[39m \u001b[38;5;28mlen\u001b[39m(s):\n",
      "File \u001b[0;32m~/miniconda/envs/idl_final/lib/python3.9/json/decoder.py:353\u001b[0m, in \u001b[0;36mJSONDecoder.raw_decode\u001b[0;34m(self, s, idx)\u001b[0m\n\u001b[1;32m    344\u001b[0m \u001b[38;5;250m\u001b[39m\u001b[38;5;124;03m\"\"\"Decode a JSON document from ``s`` (a ``str`` beginning with\u001b[39;00m\n\u001b[1;32m    345\u001b[0m \u001b[38;5;124;03ma JSON document) and return a 2-tuple of the Python\u001b[39;00m\n\u001b[1;32m    346\u001b[0m \u001b[38;5;124;03mrepresentation and the index in ``s`` where the document ended.\u001b[39;00m\n\u001b[0;32m   (...)\u001b[0m\n\u001b[1;32m    350\u001b[0m \n\u001b[1;32m    351\u001b[0m \u001b[38;5;124;03m\"\"\"\u001b[39;00m\n\u001b[1;32m    352\u001b[0m \u001b[38;5;28;01mtry\u001b[39;00m:\n\u001b[0;32m--> 353\u001b[0m     obj, end \u001b[38;5;241m=\u001b[39m \u001b[38;5;28;43mself\u001b[39;49m\u001b[38;5;241;43m.\u001b[39;49m\u001b[43mscan_once\u001b[49m\u001b[43m(\u001b[49m\u001b[43ms\u001b[49m\u001b[43m,\u001b[49m\u001b[43m \u001b[49m\u001b[43midx\u001b[49m\u001b[43m)\u001b[49m\n\u001b[1;32m    354\u001b[0m \u001b[38;5;28;01mexcept\u001b[39;00m \u001b[38;5;167;01mStopIteration\u001b[39;00m \u001b[38;5;28;01mas\u001b[39;00m err:\n\u001b[1;32m    355\u001b[0m     \u001b[38;5;28;01mraise\u001b[39;00m JSONDecodeError(\u001b[38;5;124m\"\u001b[39m\u001b[38;5;124mExpecting value\u001b[39m\u001b[38;5;124m\"\u001b[39m, s, err\u001b[38;5;241m.\u001b[39mvalue) \u001b[38;5;28;01mfrom\u001b[39;00m\u001b[38;5;250m \u001b[39m\u001b[38;5;28;01mNone\u001b[39;00m\n",
      "\u001b[0;31mJSONDecodeError\u001b[0m: Expecting ',' delimiter: line 1 column 3739 (char 3738)"
     ]
    }
   ],
   "source": [
    "train_ds = JsonFireDataset(\n",
    "    json_path   = \"train.json\",\n",
    "    local_keys  = [\"T2M\",\"TP\",\"VPD_CF\"],\n",
    "    oci_keys    = [\"NAO\", \"NINA34_ANOM\"]\n",
    ")\n",
    "val_ds = JsonFireDataset(\n",
    "    json_path   = \"val.json\",\n",
    "    local_keys  = [\"T2M\",\"TP\",\"VPD_CF\"],\n",
    "    oci_keys    = [\"NAO\", \"NINA34_ANOM\"]\n",
    ")\n",
    "test_ds = JsonFireDataset(\n",
    "    json_path   = \"test.json\",\n",
    "    local_keys  = [\"T2M\",\"TP\",\"VPD_CF\"],\n",
    "    oci_keys    = [\"NAO\", \"NINA34_ANOM\"]\n",
    ")"
   ]
  },
  {
   "cell_type": "markdown",
   "id": "a367f937",
   "metadata": {},
   "source": [
    "# Model"
   ]
  },
  {
   "cell_type": "markdown",
   "id": "572cbc51",
   "metadata": {},
   "source": [
    "## Adjacency Matrix"
   ]
  },
  {
   "cell_type": "code",
   "execution_count": 37,
   "id": "b61c6a91",
   "metadata": {},
   "outputs": [
    {
     "ename": "JSONDecodeError",
     "evalue": "Expecting ',' delimiter: line 1 column 3739 (char 3738)",
     "output_type": "error",
     "traceback": [
      "\u001b[0;31m---------------------------------------------------------------------------\u001b[0m",
      "\u001b[0;31mJSONDecodeError\u001b[0m                           Traceback (most recent call last)",
      "Cell \u001b[0;32mIn[37], line 1\u001b[0m\n\u001b[0;32m----> 1\u001b[0m matrix_builder \u001b[38;5;241m=\u001b[39m \u001b[43mAdjacencyMatrix\u001b[49m\u001b[43m(\u001b[49m\u001b[38;5;124;43m\"\u001b[39;49m\u001b[38;5;124;43mtrain.json\u001b[39;49m\u001b[38;5;124;43m\"\u001b[39;49m\u001b[43m,\u001b[49m\u001b[43m \u001b[49m\u001b[38;5;241;43m312\u001b[39;49m\u001b[43m)\u001b[49m\n\u001b[1;32m      2\u001b[0m norm_matrix \u001b[38;5;241m=\u001b[39m matrix_builder\u001b[38;5;241m.\u001b[39mnormalize_adj_matrix(matrix_builder\u001b[38;5;241m.\u001b[39madj_matrix)\n\u001b[1;32m      3\u001b[0m mask_matrix \u001b[38;5;241m=\u001b[39m matrix_builder\u001b[38;5;241m.\u001b[39mmask_target(norm_matrix, config[\u001b[38;5;124m'\u001b[39m\u001b[38;5;124mmask_target\u001b[39m\u001b[38;5;124m'\u001b[39m])\n",
      "File \u001b[0;32m~/11785_IDL_S25_Final-Project/model/matrix.py:180\u001b[0m, in \u001b[0;36m__init__\u001b[0;34m(self, json_file_path, max_timelag, independence_test, tau_max, pc_alpha)\u001b[0m\n\u001b[1;32m    177\u001b[0m self.val_matrix = None\n\u001b[1;32m    178\u001b[0m self.adj_matrix = None\n\u001b[0;32m--> 180\u001b[0m # Preprocess the JSON file and convert to DataFrame\n\u001b[1;32m    181\u001b[0m formatted_dict = self.preprocess_json(json_file_path)\n\u001b[1;32m    182\u001b[0m self.varlist = list(formatted_dict.keys())\n",
      "File \u001b[0;32m~/11785_IDL_S25_Final-Project/model/matrix.py:54\u001b[0m, in \u001b[0;36mpreprocess_json\u001b[0;34m(self, json_file_path, local_lag, oci_lag)\u001b[0m\n\u001b[1;32m     51\u001b[0m \u001b[38;5;66;03m# Process one sample at a time to extract coefficients\u001b[39;00m\n\u001b[1;32m     52\u001b[0m samples \u001b[38;5;241m=\u001b[39m json_data\u001b[38;5;241m.\u001b[39mstrip()\u001b[38;5;241m.\u001b[39msplit(\u001b[38;5;124m'\u001b[39m\u001b[38;5;130;01m\\n\u001b[39;00m\u001b[38;5;124m'\u001b[39m)\n\u001b[0;32m---> 54\u001b[0m \u001b[38;5;28;01mfor\u001b[39;00m sample_idx, sample \u001b[38;5;129;01min\u001b[39;00m \u001b[38;5;28menumerate\u001b[39m(samples):\n\u001b[1;32m     55\u001b[0m     data \u001b[38;5;241m=\u001b[39m json\u001b[38;5;241m.\u001b[39mloads(sample)\n\u001b[1;32m     57\u001b[0m     \u001b[38;5;66;03m# Process local variables (with 39 time lags * 8 days each)\u001b[39;00m\n",
      "File \u001b[0;32m~/miniconda/envs/idl_final/lib/python3.9/json/__init__.py:346\u001b[0m, in \u001b[0;36mloads\u001b[0;34m(s, cls, object_hook, parse_float, parse_int, parse_constant, object_pairs_hook, **kw)\u001b[0m\n\u001b[1;32m    341\u001b[0m     s \u001b[38;5;241m=\u001b[39m s\u001b[38;5;241m.\u001b[39mdecode(detect_encoding(s), \u001b[38;5;124m'\u001b[39m\u001b[38;5;124msurrogatepass\u001b[39m\u001b[38;5;124m'\u001b[39m)\n\u001b[1;32m    343\u001b[0m \u001b[38;5;28;01mif\u001b[39;00m (\u001b[38;5;28mcls\u001b[39m \u001b[38;5;129;01mis\u001b[39;00m \u001b[38;5;28;01mNone\u001b[39;00m \u001b[38;5;129;01mand\u001b[39;00m object_hook \u001b[38;5;129;01mis\u001b[39;00m \u001b[38;5;28;01mNone\u001b[39;00m \u001b[38;5;129;01mand\u001b[39;00m\n\u001b[1;32m    344\u001b[0m         parse_int \u001b[38;5;129;01mis\u001b[39;00m \u001b[38;5;28;01mNone\u001b[39;00m \u001b[38;5;129;01mand\u001b[39;00m parse_float \u001b[38;5;129;01mis\u001b[39;00m \u001b[38;5;28;01mNone\u001b[39;00m \u001b[38;5;129;01mand\u001b[39;00m\n\u001b[1;32m    345\u001b[0m         parse_constant \u001b[38;5;129;01mis\u001b[39;00m \u001b[38;5;28;01mNone\u001b[39;00m \u001b[38;5;129;01mand\u001b[39;00m object_pairs_hook \u001b[38;5;129;01mis\u001b[39;00m \u001b[38;5;28;01mNone\u001b[39;00m \u001b[38;5;129;01mand\u001b[39;00m \u001b[38;5;129;01mnot\u001b[39;00m kw):\n\u001b[0;32m--> 346\u001b[0m     \u001b[38;5;28;01mreturn\u001b[39;00m \u001b[43m_default_decoder\u001b[49m\u001b[38;5;241;43m.\u001b[39;49m\u001b[43mdecode\u001b[49m\u001b[43m(\u001b[49m\u001b[43ms\u001b[49m\u001b[43m)\u001b[49m\n\u001b[1;32m    347\u001b[0m \u001b[38;5;28;01mif\u001b[39;00m \u001b[38;5;28mcls\u001b[39m \u001b[38;5;129;01mis\u001b[39;00m \u001b[38;5;28;01mNone\u001b[39;00m:\n\u001b[1;32m    348\u001b[0m     \u001b[38;5;28mcls\u001b[39m \u001b[38;5;241m=\u001b[39m JSONDecoder\n",
      "File \u001b[0;32m~/miniconda/envs/idl_final/lib/python3.9/json/decoder.py:337\u001b[0m, in \u001b[0;36mJSONDecoder.decode\u001b[0;34m(self, s, _w)\u001b[0m\n\u001b[1;32m    332\u001b[0m \u001b[38;5;28;01mdef\u001b[39;00m\u001b[38;5;250m \u001b[39m\u001b[38;5;21mdecode\u001b[39m(\u001b[38;5;28mself\u001b[39m, s, _w\u001b[38;5;241m=\u001b[39mWHITESPACE\u001b[38;5;241m.\u001b[39mmatch):\n\u001b[1;32m    333\u001b[0m \u001b[38;5;250m    \u001b[39m\u001b[38;5;124;03m\"\"\"Return the Python representation of ``s`` (a ``str`` instance\u001b[39;00m\n\u001b[1;32m    334\u001b[0m \u001b[38;5;124;03m    containing a JSON document).\u001b[39;00m\n\u001b[1;32m    335\u001b[0m \n\u001b[1;32m    336\u001b[0m \u001b[38;5;124;03m    \"\"\"\u001b[39;00m\n\u001b[0;32m--> 337\u001b[0m     obj, end \u001b[38;5;241m=\u001b[39m \u001b[38;5;28;43mself\u001b[39;49m\u001b[38;5;241;43m.\u001b[39;49m\u001b[43mraw_decode\u001b[49m\u001b[43m(\u001b[49m\u001b[43ms\u001b[49m\u001b[43m,\u001b[49m\u001b[43m \u001b[49m\u001b[43midx\u001b[49m\u001b[38;5;241;43m=\u001b[39;49m\u001b[43m_w\u001b[49m\u001b[43m(\u001b[49m\u001b[43ms\u001b[49m\u001b[43m,\u001b[49m\u001b[43m \u001b[49m\u001b[38;5;241;43m0\u001b[39;49m\u001b[43m)\u001b[49m\u001b[38;5;241;43m.\u001b[39;49m\u001b[43mend\u001b[49m\u001b[43m(\u001b[49m\u001b[43m)\u001b[49m\u001b[43m)\u001b[49m\n\u001b[1;32m    338\u001b[0m     end \u001b[38;5;241m=\u001b[39m _w(s, end)\u001b[38;5;241m.\u001b[39mend()\n\u001b[1;32m    339\u001b[0m     \u001b[38;5;28;01mif\u001b[39;00m end \u001b[38;5;241m!=\u001b[39m \u001b[38;5;28mlen\u001b[39m(s):\n",
      "File \u001b[0;32m~/miniconda/envs/idl_final/lib/python3.9/json/decoder.py:353\u001b[0m, in \u001b[0;36mJSONDecoder.raw_decode\u001b[0;34m(self, s, idx)\u001b[0m\n\u001b[1;32m    344\u001b[0m \u001b[38;5;250m\u001b[39m\u001b[38;5;124;03m\"\"\"Decode a JSON document from ``s`` (a ``str`` beginning with\u001b[39;00m\n\u001b[1;32m    345\u001b[0m \u001b[38;5;124;03ma JSON document) and return a 2-tuple of the Python\u001b[39;00m\n\u001b[1;32m    346\u001b[0m \u001b[38;5;124;03mrepresentation and the index in ``s`` where the document ended.\u001b[39;00m\n\u001b[0;32m   (...)\u001b[0m\n\u001b[1;32m    350\u001b[0m \n\u001b[1;32m    351\u001b[0m \u001b[38;5;124;03m\"\"\"\u001b[39;00m\n\u001b[1;32m    352\u001b[0m \u001b[38;5;28;01mtry\u001b[39;00m:\n\u001b[0;32m--> 353\u001b[0m     obj, end \u001b[38;5;241m=\u001b[39m \u001b[38;5;28;43mself\u001b[39;49m\u001b[38;5;241;43m.\u001b[39;49m\u001b[43mscan_once\u001b[49m\u001b[43m(\u001b[49m\u001b[43ms\u001b[49m\u001b[43m,\u001b[49m\u001b[43m \u001b[49m\u001b[43midx\u001b[49m\u001b[43m)\u001b[49m\n\u001b[1;32m    354\u001b[0m \u001b[38;5;28;01mexcept\u001b[39;00m \u001b[38;5;167;01mStopIteration\u001b[39;00m \u001b[38;5;28;01mas\u001b[39;00m err:\n\u001b[1;32m    355\u001b[0m     \u001b[38;5;28;01mraise\u001b[39;00m JSONDecodeError(\u001b[38;5;124m\"\u001b[39m\u001b[38;5;124mExpecting value\u001b[39m\u001b[38;5;124m\"\u001b[39m, s, err\u001b[38;5;241m.\u001b[39mvalue) \u001b[38;5;28;01mfrom\u001b[39;00m\u001b[38;5;250m \u001b[39m\u001b[38;5;28;01mNone\u001b[39;00m\n",
      "\u001b[0;31mJSONDecodeError\u001b[0m: Expecting ',' delimiter: line 1 column 3739 (char 3738)"
     ]
    }
   ],
   "source": [
    "matrix_builder = AdjacencyMatrix(\"train.json\", 312)\n",
    "norm_matrix = matrix_builder.normalize_adj_matrix(matrix_builder.adj_matrix)\n",
    "mask_matrix = matrix_builder.mask_target(norm_matrix, config['mask_target'])"
   ]
  },
  {
   "cell_type": "markdown",
   "id": "a86d6d91",
   "metadata": {},
   "source": [
    "## Causal GNN"
   ]
  },
  {
   "cell_type": "code",
   "execution_count": null,
   "id": "0c710c8d",
   "metadata": {},
   "outputs": [],
   "source": [
    "model = CausalGNN(\n",
    "    adj_matrix=norm_matrix,\n",
    "    num_nodes=config['gnn_nodes'],\n",
    "    hidden_dim=config['hidden_dim']\n",
    ").to(device)\n",
    "\n",
    "model_stats = summary(model)"
   ]
  }
 ],
 "metadata": {
  "kernelspec": {
   "display_name": "idl_final",
   "language": "python",
   "name": "python3"
  },
  "language_info": {
   "codemirror_mode": {
    "name": "ipython",
    "version": 3
   },
   "file_extension": ".py",
   "mimetype": "text/x-python",
   "name": "python",
   "nbconvert_exporter": "python",
   "pygments_lexer": "ipython3",
   "version": "3.9.22"
  }
 },
 "nbformat": 4,
 "nbformat_minor": 5
}
