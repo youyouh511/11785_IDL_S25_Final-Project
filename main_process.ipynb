{
 "cells": [
  {
   "cell_type": "markdown",
   "id": "2ec945c3",
   "metadata": {},
   "source": [
    "# 🔥Causal Graph Neural Networks for Wildfire Danger Prediction🔥\n",
    "Re-implementation of original work by Zhao et al.(2024) (https://arxiv.org/abs/2403.08414)\n",
    "\n",
    "IDL S25 Group 23: Wenting Yue, Wenyu Liu, Youyou Huang (Group 23)"
   ]
  },
  {
   "cell_type": "markdown",
   "id": "04e37dc0",
   "metadata": {},
   "source": [
    "## Retrieve files from github repository\n",
    "If `only notebook` is downloaded locally"
   ]
  },
  {
   "cell_type": "code",
   "execution_count": 1,
   "id": "339ef5cb",
   "metadata": {},
   "outputs": [
    {
     "name": "stdout",
     "output_type": "stream",
     "text": [
      "Current working directory: /home/ubuntu/11785_IDL_S25_Final-Project\n",
      "Already up to date.\n"
     ]
    }
   ],
   "source": [
    "import os\n",
    "import sys\n",
    "\n",
    "# Get the current working directory\n",
    "print(\"Current working directory:\", os.getcwd())\n",
    "# repo = \"https://github.com/youyouh511/11785_IDL_S25_Final-Project.git\"\n",
    "# !git clone {repo}\n",
    "!git pull"
   ]
  },
  {
   "cell_type": "markdown",
   "id": "8474fc73",
   "metadata": {},
   "source": [
    "# Set up"
   ]
  },
  {
   "cell_type": "markdown",
   "id": "484a6211",
   "metadata": {},
   "source": [
    "## Environment"
   ]
  },
  {
   "cell_type": "markdown",
   "id": "525a0d17",
   "metadata": {},
   "source": [
    "Environment setup\n",
    "```bash\n",
    "conda env create -f env.yml\n",
    "```\n",
    "\n",
    "Activate environment and check device\n",
    "```bash\n",
    "conda activate idl\n",
    "nvidia-smi\n",
    "python -c \"import torch; print('CUDA available:', torch.cuda.is_available())\"\n",
    "```"
   ]
  },
  {
   "cell_type": "markdown",
   "id": "1f92f9e4",
   "metadata": {},
   "source": [
    "# Imports"
   ]
  },
  {
   "cell_type": "code",
   "execution_count": 2,
   "id": "861ab121",
   "metadata": {},
   "outputs": [
    {
     "name": "stdout",
     "output_type": "stream",
     "text": [
      "Using device: cuda\n"
     ]
    }
   ],
   "source": [
    "from data import (\n",
    "    JsonFireDataset\n",
    ")\n",
    "from model import (\n",
    "    AdjacencyMatrix,\n",
    "    TemporalLSTM,\n",
    "    CausalGNN\n",
    ")\n",
    "# from train import (\n",
    "    \n",
    "# )\n",
    "# from utils import (\n",
    "# )\n",
    "\n",
    "\n",
    "import numpy as np\n",
    "import tqdm\n",
    "import matplotlib.pyplot as plt\n",
    "import json\n",
    "import zipfile\n",
    "import torch\n",
    "import requests\n",
    "import xarray as xr\n",
    "import yaml\n",
    "from torchinfo import summary\n",
    "import shutil\n",
    "import wandb\n",
    "import time\n",
    "device = \"cuda\" if torch.cuda.is_available() else \"cpu\"\n",
    "print(f\"Using device: {device}\")\n"
   ]
  },
  {
   "cell_type": "markdown",
   "id": "3534b843",
   "metadata": {},
   "source": [
    "# Config"
   ]
  },
  {
   "cell_type": "code",
   "execution_count": 3,
   "id": "01908115",
   "metadata": {},
   "outputs": [
    {
     "name": "stdout",
     "output_type": "stream",
     "text": [
      "Overwriting config.yaml\n"
     ]
    }
   ],
   "source": [
    "%%writefile config.yaml\n",
    "\n",
    "###### Dataset\n",
    "    root                    : \"./data\"\n",
    "    train_json_path         : \"train.json\"\n",
    "    val_json_path           : \"val.json\"\n",
    "    test_json_path          : \"test.json\"\n",
    "    matrix_json_path        : \"matrix.json\"\n",
    "    subset                  : 1.0\n",
    "    batch_size              : 128\n",
    "    NUM_WORKERS             : 4\n",
    "\n",
    "    ### Target threshold\n",
    "    fire_threshold          : 10\n",
    "\n",
    "\n",
    "###### Model\n",
    "    ### Adjacency matrix\n",
    "    local_var_lag           : 8\n",
    "    oci_var_lag             : 31\n",
    "    max_lag                 : 312\n",
    "    independence_test       : \"ParCorr\"\n",
    "    tau_max                 : 186\n",
    "    pc_alpha                : 0.05\n",
    "    mask_target             : True\n",
    "\n",
    "    ### Temporal LSTM\n",
    "    lstm_layer              : 1\n",
    "    hidden_dim              : 256\n",
    "\n",
    "    ### GNN\n",
    "    gnn_nodes               : 7\n",
    "\n",
    "\n",
    "###### Training\n",
    "    epochs                  : 30\n",
    "\n",
    "    lr                      : 1.0e-5\n",
    "    min_lr                  : 1.0e-9\n",
    "    \n",
    "    optimizer               : \"Adam\"\n",
    "    betas                   : [0.9, 0.999]\n",
    "    eps                     : 1.0e-8\n",
    "    weight_decay            : 5.0e-6\n",
    "\n",
    "    lr_scheduler            : \"CosineAnnealingLR\"\n",
    "    patience                : 10\n",
    "    early_stop              : True\n",
    "\n",
    "    save_model              : True\n",
    "    save_model_path         : \"./checkpoints\"\n",
    "    load_model              : False\n",
    "    load_model_path         : \"./checkpoints/best.pth\"\n",
    "    wandb_log               : True\n",
    "    wandb_project           : \"IDL_Final\"\n",
    "    wandb_run_id            : None"
   ]
  },
  {
   "cell_type": "code",
   "execution_count": 4,
   "id": "577f018f",
   "metadata": {},
   "outputs": [
    {
     "data": {
      "text/plain": [
       "{'root': './data',\n",
       " 'train_json_path': 'train.json',\n",
       " 'val_json_path': 'val.json',\n",
       " 'test_json_path': 'test.json',\n",
       " 'matrix_json_path': 'matrix.json',\n",
       " 'subset': 1.0,\n",
       " 'batch_size': 128,\n",
       " 'NUM_WORKERS': 4,\n",
       " 'fire_threshold': 10,\n",
       " 'local_var_lag': 8,\n",
       " 'oci_var_lag': 31,\n",
       " 'max_lag': 312,\n",
       " 'independence_test': 'ParCorr',\n",
       " 'tau_max': 186,\n",
       " 'pc_alpha': 0.05,\n",
       " 'mask_target': True,\n",
       " 'lstm_layer': 1,\n",
       " 'hidden_dim': 256,\n",
       " 'gnn_nodes': 7,\n",
       " 'epochs': 30,\n",
       " 'lr': 1e-05,\n",
       " 'min_lr': 1e-09,\n",
       " 'optimizer': 'Adam',\n",
       " 'betas': [0.9, 0.999],\n",
       " 'eps': 1e-08,\n",
       " 'weight_decay': 5e-06,\n",
       " 'lr_scheduler': 'CosineAnnealingLR',\n",
       " 'patience': 10,\n",
       " 'early_stop': True,\n",
       " 'save_model': True,\n",
       " 'save_model_path': './checkpoints',\n",
       " 'load_model': False,\n",
       " 'load_model_path': './checkpoints/best.pth',\n",
       " 'wandb_log': True,\n",
       " 'wandb_project': 'IDL_Final',\n",
       " 'wandb_run_id': 'None'}"
      ]
     },
     "execution_count": 4,
     "metadata": {},
     "output_type": "execute_result"
    }
   ],
   "source": [
    "with open('config.yaml', 'r') as file:\n",
    "    config = yaml.safe_load(file)\n",
    "\n",
    "config"
   ]
  },
  {
   "cell_type": "markdown",
   "id": "0fb2ce69",
   "metadata": {},
   "source": [
    "# Data Retrieval & Pre-process\n",
    "Refer to data_preprocessing.ipynb"
   ]
  },
  {
   "cell_type": "markdown",
   "id": "91b39eef",
   "metadata": {},
   "source": [
    "# Datasets"
   ]
  },
  {
   "cell_type": "code",
   "execution_count": 5,
   "id": "64ab8390",
   "metadata": {},
   "outputs": [],
   "source": [
    "local_keys  = [\"T2M_MEAN\",\"TP\",\"VPD\"]\n",
    "oci_keys    = [\"OCI_NAO\", \"OCI_NINA34_ANOM\", \"OCI_AO\"]\n",
    "\n",
    "train_ds = JsonFireDataset(\n",
    "    json_path   = \"data/train.json\",\n",
    "    local_keys  = local_keys,\n",
    "    oci_keys    = oci_keys\n",
    ")\n",
    "val_ds = JsonFireDataset(\n",
    "    json_path   = \"data/val.json\",\n",
    "    local_keys  = local_keys,\n",
    "    oci_keys    = oci_keys\n",
    ")\n",
    "test_ds = JsonFireDataset(\n",
    "    json_path   = \"data/test.json\",\n",
    "    local_keys  = local_keys,\n",
    "    oci_keys    = oci_keys\n",
    ")"
   ]
  },
  {
   "cell_type": "markdown",
   "id": "a367f937",
   "metadata": {},
   "source": [
    "# Model"
   ]
  },
  {
   "cell_type": "markdown",
   "id": "572cbc51",
   "metadata": {},
   "source": [
    "## Adjacency Matrix"
   ]
  },
  {
   "cell_type": "code",
   "execution_count": null,
   "id": "b61c6a91",
   "metadata": {},
   "outputs": [
    {
     "name": "stdout",
     "output_type": "stream",
     "text": [
      "\n",
      "### Panel 0 last 5 rows ###\n",
      "     OCI_AO  OCI_NAO  OCI_NINA34_ANOM    T2M_MEAN         TP       VPD  target\n",
      "961   0.099    -0.33            -0.94  257.566284   3.615669  0.440086     0.0\n",
      "962   0.201     0.18            -1.06  257.355957   2.098551  0.385240     0.0\n",
      "963   0.201     0.18            -1.06  268.123413  11.839519  0.620212     0.0\n",
      "964   0.201     0.18            -1.06  263.010590   6.840503  0.447818     0.0\n",
      "965   0.201     0.18            -1.06  259.632812   5.360566  0.302661     0.0\n",
      "\n",
      "### Panel 1 last 5 rows ###\n",
      "     OCI_AO  OCI_NAO  OCI_NINA34_ANOM    T2M_MEAN         TP       VPD  target\n",
      "961   0.099    -0.33            -0.94  257.308868   3.405934  0.450177     0.0\n",
      "962   0.201     0.18            -1.06  257.170746   2.299670  0.366090     0.0\n",
      "963   0.201     0.18            -1.06  268.234100  11.543229  0.619684     0.0\n",
      "964   0.201     0.18            -1.06  262.839966   7.076499  0.403347     0.0\n",
      "965   0.201     0.18            -1.06  259.227203   5.587930  0.267106     0.0\n",
      "\n",
      "### Panel 2 last 5 rows ###\n",
      "     OCI_AO  OCI_NAO  OCI_NINA34_ANOM    T2M_MEAN         TP       VPD  target\n",
      "961   0.099    -0.33            -0.94  257.428070   3.492347  0.466271     0.0\n",
      "962   0.201     0.18            -1.06  257.239716   2.423929  0.364676     0.0\n",
      "963   0.201     0.18            -1.06  268.366058  11.584509  0.611732     0.0\n",
      "964   0.201     0.18            -1.06  263.010223   8.328296  0.405684     0.0\n",
      "965   0.201     0.18            -1.06  259.227234   5.942788  0.247399     0.0\n",
      "preping pcmci...\n",
      "running pcmci...\n"
     ]
    },
    {
     "ename": "AttributeError",
     "evalue": "'PCMCI' object has no attribute 'pcmci_parallel'",
     "output_type": "error",
     "traceback": [
      "\u001b[31m---------------------------------------------------------------------------\u001b[39m",
      "\u001b[31mAttributeError\u001b[39m                            Traceback (most recent call last)",
      "\u001b[36mCell\u001b[39m\u001b[36m \u001b[39m\u001b[32mIn[6]\u001b[39m\u001b[32m, line 1\u001b[39m\n\u001b[32m----> \u001b[39m\u001b[32m1\u001b[39m matrix_builder = AdjacencyMatrix(\u001b[33m\"\u001b[39m\u001b[33mdata/matrix.json\u001b[39m\u001b[33m\"\u001b[39m, tau_max=\u001b[32m23\u001b[39m)\n\u001b[32m      2\u001b[39m norm_matrix = matrix_builder.normalize_adj_matrix(matrix_builder.adj_matrix)\n\u001b[32m      3\u001b[39m mask_matrix = matrix_builder.mask_target(norm_matrix, config[\u001b[33m'\u001b[39m\u001b[33mmask_target\u001b[39m\u001b[33m'\u001b[39m])\n",
      "\u001b[36mFile \u001b[39m\u001b[32m~/11785_IDL_S25_Final-Project/model/matrix.py:348\u001b[39m, in \u001b[36mAdjacencyMatrix.__init__\u001b[39m\u001b[34m(self, json_file_path, independence_test, tau_max, pc_alpha, analysis_mode)\u001b[39m\n\u001b[32m    345\u001b[39m \u001b[38;5;28mself\u001b[39m.V = \u001b[38;5;28mlen\u001b[39m(\u001b[38;5;28mself\u001b[39m.varlist)\n\u001b[32m    347\u001b[39m \u001b[38;5;66;03m# Calculate PCMCI matrices\u001b[39;00m\n\u001b[32m--> \u001b[39m\u001b[32m348\u001b[39m \u001b[38;5;28mself\u001b[39m.p_matrix, \u001b[38;5;28mself\u001b[39m.val_matrix, \u001b[38;5;28mself\u001b[39m.adj_matrix = \u001b[38;5;28mself\u001b[39m.compute_pcmci_links(\n\u001b[32m    349\u001b[39m     dataframe=\u001b[38;5;28mself\u001b[39m.dataframe,\n\u001b[32m    350\u001b[39m     independence_test=\u001b[38;5;28mself\u001b[39m.ind_test,\n\u001b[32m    351\u001b[39m     tau_max=\u001b[38;5;28mself\u001b[39m.tau_max,\n\u001b[32m    352\u001b[39m     pc_alpha=\u001b[38;5;28mself\u001b[39m.pc_alpha,\n\u001b[32m    353\u001b[39m )\n",
      "\u001b[36mFile \u001b[39m\u001b[32m~/11785_IDL_S25_Final-Project/model/matrix.py:288\u001b[39m, in \u001b[36mAdjacencyMatrix.compute_pcmci_links\u001b[39m\u001b[34m(self, dataframe, tau_max, pc_alpha, independence_test, use_gpu, gpu_device)\u001b[39m\n\u001b[32m    286\u001b[39m \u001b[38;5;66;03m### Time consuming\u001b[39;00m\n\u001b[32m    287\u001b[39m \u001b[38;5;28mprint\u001b[39m(\u001b[33m\"\u001b[39m\u001b[33mrunning pcmci...\u001b[39m\u001b[33m\"\u001b[39m)\n\u001b[32m--> \u001b[39m\u001b[32m288\u001b[39m results = pcmci.pcmci_parallel(\n\u001b[32m    289\u001b[39m     tau_max = tau_max,\n\u001b[32m    290\u001b[39m     pc_alpha= pc_alpha\n\u001b[32m    291\u001b[39m )\n\u001b[32m    293\u001b[39m \u001b[38;5;66;03m# 3) extract what you need\u001b[39;00m\n\u001b[32m    294\u001b[39m \u001b[38;5;28mprint\u001b[39m(\u001b[33m\"\u001b[39m\u001b[33mextracting links...\u001b[39m\u001b[33m\"\u001b[39m)\n",
      "\u001b[31mAttributeError\u001b[39m: 'PCMCI' object has no attribute 'pcmci_parallel'"
     ]
    }
   ],
   "source": [
    "matrix_builder = AdjacencyMatrix(\"data/matrix.json\", independence_test=\"GPDCtorch\",tau_max=23)\n",
    "norm_matrix = matrix_builder.normalize_adj_matrix(matrix_builder.adj_matrix)\n",
    "mask_matrix = matrix_builder.mask_target(norm_matrix, config['mask_target'])\n",
    "print(matrix_builder.varlist)"
   ]
  },
  {
   "cell_type": "markdown",
   "id": "a86d6d91",
   "metadata": {},
   "source": [
    "## Causal GNN"
   ]
  },
  {
   "cell_type": "code",
   "execution_count": null,
   "id": "0c710c8d",
   "metadata": {},
   "outputs": [],
   "source": [
    "model = CausalGNN(\n",
    "    adj_matrix=norm_matrix,\n",
    "    num_nodes=config['gnn_nodes'],\n",
    "    hidden_dim=config['hidden_dim']\n",
    ").to(device)\n",
    "\n",
    "model_stats = summary(model)"
   ]
  }
 ],
 "metadata": {
  "kernelspec": {
   "display_name": "idl",
   "language": "python",
   "name": "python3"
  },
  "language_info": {
   "codemirror_mode": {
    "name": "ipython",
    "version": 3
   },
   "file_extension": ".py",
   "mimetype": "text/x-python",
   "name": "python",
   "nbconvert_exporter": "python",
   "pygments_lexer": "ipython3",
   "version": "3.12.10"
  }
 },
 "nbformat": 4,
 "nbformat_minor": 5
}
